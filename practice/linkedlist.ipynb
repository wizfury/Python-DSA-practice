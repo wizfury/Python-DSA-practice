{
 "cells": [
  {
   "cell_type": "code",
   "execution_count": null,
   "metadata": {},
   "outputs": [],
   "source": []
  },
  {
   "cell_type": "code",
   "execution_count": null,
   "metadata": {},
   "outputs": [],
   "source": []
  },
  {
   "cell_type": "code",
   "execution_count": 74,
   "metadata": {},
   "outputs": [
    {
     "name": "stdout",
     "output_type": "stream",
     "text": [
      "1\n",
      "8\n"
     ]
    }
   ],
   "source": [
    "class ListNode:\n",
    "    def __init__(self,val=0,next=None):\n",
    "        self.val = val \n",
    "        self.next = next\n",
    " \n",
    "# f=ListNode(9)\n",
    "# e=ListNode(9,f)\n",
    "d=ListNode(0)\n",
    "l2=d\n",
    "\n",
    "\n",
    "b=ListNode(8)\n",
    "a=ListNode(1,b)\n",
    "l1=a\n",
    "\n",
    "\n",
    "temp1 = l1\n",
    "temp2= l2\n",
    "carry = 0\n",
    "\n",
    "head=ListNode(0)\n",
    "tail = head\n",
    "\n",
    "\n",
    "while temp1 or temp2 or carry!=0:\n",
    "    digit1 = temp1.val if temp1 else 0\n",
    "    digit2 = temp2.val if temp2 else 0\n",
    "    \n",
    "    sum=carry+digit1+digit2\n",
    "    \n",
    "    \n",
    "    carry = sum//10\n",
    "    digit = sum%10\n",
    "    \n",
    "    \n",
    "    newNode = ListNode(digit)\n",
    "    tail.next = newNode\n",
    "    tail = tail.next\n",
    "    \n",
    "    temp1 = temp1.next if temp1 else None\n",
    "    temp2 = temp2.next if temp2 else None\n",
    "    \n",
    "\n",
    "head= head.next\n",
    "while head:\n",
    "    print(head.val)\n",
    "    head = head.next\n",
    "\n"
   ]
  },
  {
   "cell_type": "code",
   "execution_count": 5,
   "metadata": {},
   "outputs": [],
   "source": [
    "class TreeNode:\n",
    "    def __init__(self, data, left=None, right=None):\n",
    "        self.data=data\n",
    "        self.left = left\n",
    "        self.right = right\n",
    "        "
   ]
  },
  {
   "cell_type": "code",
   "execution_count": 25,
   "metadata": {},
   "outputs": [
    {
     "name": "stdout",
     "output_type": "stream",
     "text": [
      "4 5 2 3 1 \n",
      "4 2 1 3 5 "
     ]
    }
   ],
   "source": [
    "#         4\n",
    "#         |\n",
    "#     ---------\n",
    "#     |       | \n",
    "#     2       5\n",
    "#     |       \n",
    "# ---------\n",
    "# |       |\n",
    "# 1       3   \n",
    "\n",
    "\n",
    "class Tree:\n",
    "    def __init__(self,root):\n",
    "        self.root = root\n",
    "        \n",
    "    def traversel(self,node):\n",
    "        #dfs\n",
    "        stack = [node]\n",
    "        while stack:\n",
    "            curr = stack.pop()\n",
    "            print(curr.data,end=\" \")\n",
    "            \n",
    "            if curr.left:\n",
    "                stack.append(curr.left)\n",
    "            if curr.right:\n",
    "                stack.append(curr.right) \n",
    "        \n",
    "    def dfs(self,node):\n",
    "        if node is None:\n",
    "            return \n",
    "        \n",
    "        print(node.data,end=\" \")\n",
    "        \n",
    "        self.dfs(node.left) \n",
    "        self.dfs(node.right)\n",
    "    \n",
    "     \n",
    "                \n",
    "\n",
    "b= TreeNode(1)\n",
    "c= TreeNode(3)\n",
    "\n",
    "a= TreeNode(2,b,c)\n",
    "d= TreeNode(5)\n",
    "\n",
    "root=TreeNode(4,a,d)\n",
    "\n",
    "tree = Tree(root)\n",
    "tree.traversel(root)\n",
    "print()\n",
    "tree.dfs(root)\n",
    "\n",
    "\n",
    "\n",
    "        "
   ]
  },
  {
   "cell_type": "code",
   "execution_count": 10,
   "metadata": {},
   "outputs": [
    {
     "name": "stdout",
     "output_type": "stream",
     "text": [
      "1\n",
      "2\n",
      "3\n",
      "4\n",
      "5\n",
      "6\n"
     ]
    }
   ],
   "source": [
    "z=[1,2,3,4,5]\n",
    "class Node:\n",
    "    def __init__(self,data):\n",
    "        self.data = data\n",
    "        self.next = None\n",
    "\n",
    "class LL:\n",
    "    def __init__(self):\n",
    "        self.head= None\n",
    "        \n",
    "    def showll(self):\n",
    "        temp=self.head\n",
    "        while temp:\n",
    "            print(temp.data)\n",
    "            temp=temp.next\n",
    "        \n",
    "    def sol(self,x):\n",
    "        temp=self.head\n",
    "        while temp.next:\n",
    "            temp=temp.next\n",
    "        temp.next = Node(x)\n",
    "        \n",
    "    \n",
    "    def createLL(self,arr):\n",
    "        if self.head is None:\n",
    "            self.head = Node(arr[0])\n",
    "            \n",
    "        temp = self.head\n",
    "        for i in arr[1:]:\n",
    "            temp.next = Node(i)\n",
    "            temp = temp.next\n",
    "            \n",
    "\n",
    "head = LL()\n",
    "head.createLL(z)\n",
    "\n",
    "head.sol(6)\n",
    "head.showll()\n",
    "\n",
    "    \n",
    "    \n",
    "\n"
   ]
  },
  {
   "cell_type": "code",
   "execution_count": 14,
   "metadata": {},
   "outputs": [
    {
     "name": "stdout",
     "output_type": "stream",
     "text": [
      "1\n",
      "2\n",
      "3\n",
      "4\n",
      "5\n"
     ]
    }
   ],
   "source": [
    "z=[1,2,3,4,5]\n",
    "class Node:\n",
    "    def __init__(self,data):\n",
    "        self.data = data\n",
    "        self.next = None\n",
    "        self.prev = None\n",
    "\n",
    "class LL:\n",
    "    def __init__(self):\n",
    "        self.head= None\n",
    "        \n",
    "    def showll(self):\n",
    "        temp=self.head\n",
    "        while temp:\n",
    "            print(temp.data)\n",
    "            temp=temp.next\n",
    "        \n",
    "    \n",
    "    def createLL(self,arr):\n",
    "        if self.head is None:\n",
    "            self.head = Node(arr[0])\n",
    "            \n",
    "        temp = self.head\n",
    "        for i in arr[1:]:\n",
    "            tempNode =  Node(i)\n",
    "            tempNode.prev=temp\n",
    "            temp.next = tempNode\n",
    "            temp = temp.next\n",
    "        return self.head\n",
    "            \n",
    "\n",
    "head = LL()\n",
    "head.createLL(z)\n",
    "head.showll()\n",
    "\n",
    "\n",
    "    \n",
    "    \n",
    "\n"
   ]
  },
  {
   "cell_type": "code",
   "execution_count": null,
   "metadata": {},
   "outputs": [],
   "source": []
  }
 ],
 "metadata": {
  "kernelspec": {
   "display_name": "Python 3",
   "language": "python",
   "name": "python3"
  },
  "language_info": {
   "codemirror_mode": {
    "name": "ipython",
    "version": 3
   },
   "file_extension": ".py",
   "mimetype": "text/x-python",
   "name": "python",
   "nbconvert_exporter": "python",
   "pygments_lexer": "ipython3",
   "version": "3.12.4"
  }
 },
 "nbformat": 4,
 "nbformat_minor": 2
}
