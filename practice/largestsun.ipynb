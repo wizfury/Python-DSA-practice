{
 "cells": [
  {
   "cell_type": "code",
   "execution_count": 2,
   "metadata": {},
   "outputs": [
    {
     "name": "stdout",
     "output_type": "stream",
     "text": [
      "0\n",
      "1\n",
      "2\n",
      "3\n",
      "4\n",
      "5\n",
      "6\n",
      "7\n",
      "8\n",
      "9\n",
      "10\n",
      "11\n",
      "12\n",
      "13\n",
      "14\n",
      "15\n",
      "16\n",
      "17\n",
      "18\n",
      "19\n",
      "20\n",
      "21\n",
      "22\n"
     ]
    }
   ],
   "source": [
    "n=23\n",
    "edges = [4,4, 1, 4, 13, 8, 8, 8, 0, 8, 14, 9, 15, 11, -1, 10, 15, 22, 22, 22, 22, 22, 21]\n",
    "\n",
    "graph={}\n",
    "\n",
    "for i in range(23):\n",
    "    if i not in graph:\n",
    "        graph[i] = []\n",
    "    \n",
    "    graph[i].append(edges[i])\n",
    "\n",
    "\n",
    "\n"
   ]
  },
  {
   "cell_type": "code",
   "execution_count": 13,
   "metadata": {},
   "outputs": [
    {
     "name": "stdout",
     "output_type": "stream",
     "text": [
      "{0: [4], 1: [4], 2: [1], 3: [4], 4: [13], 5: [8], 6: [8], 7: [8], 8: [0], 9: [8], 10: [14], 11: [9], 12: [15], 13: [11], 14: [-1], 15: [10], 16: [15], 17: [22], 18: [22], 19: [22], 20: [22], 21: [22], 22: [21]}\n"
     ]
    }
   ],
   "source": [
    "def largest_sum_cycle(graph,n,visited):\n",
    "    visited = set()\n",
    "    max_sum = -1\n",
    "    for i in range(n):\n",
    "        current_visited = set()\n",
    "        node_stack=[]\n",
    "        explore(graph,i,visited,current_visited,node_stack)\n",
    "    \n",
    "def explore(graph,node,visited,curr_visited,node_stack):\n",
    "    \n",
    "    if node in curr_visited:\n",
    "        cycle_start = node.stack.index(node)\n",
    "        cycle_sum = sum(node_stack[cycle_start:])\n",
    "        return cycle_sum\n",
    "    \n",
    "    \n",
    "    if node in visited:\n",
    "        return 0\n",
    "        \n",
    "    \n",
    "    visited.add(node)\n",
    "    curr_visited.add(node)\n",
    "    node_stack.append(node)\n",
    "    \n",
    "    cycle_sum=0\n",
    "    \n",
    "    \n",
    "    \n",
    "    for adj in graph[node]:\n",
    "        cycle_sum = explore(graph,adj,visited)\n",
    "        \n",
    "        \n",
    "    \n",
    "    \n",
    "def main():\n",
    "    n=23\n",
    "    edges = [4,4, 1, 4, 13, 8, 8, 8, 0, 8, 14, 9, 15, 11, -1, 10, 15, 22, 22, 22, 22, 22, 21]\n",
    "\n",
    "    graph={}\n",
    "\n",
    "    for i in range(23):\n",
    "        if i not in graph:\n",
    "            graph[i] = []\n",
    "    \n",
    "        graph[i].append(edges[i])\n",
    "    \n",
    " \n",
    "        \n",
    "    return graph\n",
    "if __name__ =='__main__':\n",
    "    print(main())"
   ]
  },
  {
   "cell_type": "code",
   "execution_count": 1,
   "metadata": {},
   "outputs": [
    {
     "name": "stdout",
     "output_type": "stream",
     "text": [
      "[8, 2, 0, 0, 4, 0, 0, 0, 27, 11, 15, 13, 0, 4, 10, 28, 0, 0, 0, 0, 0, 22, 95]\n"
     ]
    },
    {
     "data": {
      "text/plain": [
       "22"
      ]
     },
     "execution_count": 1,
     "metadata": {},
     "output_type": "execute_result"
    }
   ],
   "source": [
    "edges = [4,4, 1, 4, 13, 8, 8, 8, 0, 8, 14, 9, 15, 11, -1, 10, 15, 22, 22, 22, 22, 22, 21]\n",
    "\n",
    "n=23\n",
    "\n",
    "weight=[0]*23\n",
    "\n",
    "for i in range(23):\n",
    "    if edges[i]!=-1:\n",
    "        weight[edges[i]] +=i\n",
    "\n",
    "print(weight)\n",
    "    \n",
    "max_weight = -1\n",
    "max_node=-1\n",
    "\n",
    "for i in range(n):\n",
    "    if weight[i]>max_weight:\n",
    "        max_weight =weight[i] \n",
    "        max_node=i\n",
    "max_node"
   ]
  },
  {
   "cell_type": "code",
   "execution_count": 2,
   "metadata": {},
   "outputs": [
    {
     "data": {
      "text/plain": [
       "4"
      ]
     },
     "execution_count": 2,
     "metadata": {},
     "output_type": "execute_result"
    }
   ],
   "source": [
    "def findpath(edges,start):\n",
    "    path = []\n",
    "    visited = set()\n",
    "    \n",
    "    while start!=-1 and start not in visited:\n",
    "        visited.add(start)\n",
    "        path.append(start)\n",
    "        start = edges[start]\n",
    "        \n",
    "    return path\n",
    "\n",
    "path1=findpath(edges,9)\n",
    "path2=findpath(edges,1)\n",
    "\n",
    "path1_pos={cell: idx for idx,cell in enumerate(findpath(edges,9))}\n",
    "\n",
    "min_distance=float('inf')\n",
    "for idx, cell in enumerate(path2):\n",
    "        if cell in path1_pos:\n",
    "            distance = max(path1_pos[cell], idx)  # Furthest distance to reach the common cell\n",
    "            if distance < min_distance:\n",
    "                min_distance = distance\n",
    "                nearest_cell = cell\n",
    "                \n",
    "nearest_cell"
   ]
  },
  {
   "cell_type": "code",
   "execution_count": 2,
   "metadata": {},
   "outputs": [
    {
     "name": "stdout",
     "output_type": "stream",
     "text": [
      "0\n",
      "4\n",
      "13\n",
      "11\n",
      "9\n",
      "8\n"
     ]
    }
   ],
   "source": [
    "class graph:\n",
    "    def __init__(self,gdict=None):\n",
    "        if gdict is None:\n",
    "            gdict = {}\n",
    "        self.gdict = gdict\n",
    "        \n",
    "    def makegraph(self,edges):\n",
    "        for i in range(23):\n",
    "            if i not in self.gdict:\n",
    "                self.gdict[i] = []\n",
    "    \n",
    "            self.gdict[i].append(edges[i])\n",
    "        return self.gdict\n",
    "    \n",
    "    def dfs(self,adj,node):\n",
    "        visited = [node]\n",
    "        stack = [node]\n",
    "            \n",
    "        while stack:\n",
    "            curr = stack.pop(0)\n",
    "            print(curr)\n",
    "                \n",
    "            for adj in self.gdict[curr]:\n",
    "                if adj not in visited:\n",
    "                    stack.append(adj)\n",
    "                    visited.append(adj)\n",
    "\n",
    "\n",
    "\n",
    "                \n",
    "edges = [4,4, 1, 4, 13, 8, 8, 8, 0, 8, 14, 9, 15, 11, -1, 10, 15, 22, 22, 22, 22, 22, 21] \n",
    "g=graph()\n",
    "adj=g.makegraph(edges)\n",
    "visited=set(adj)\n",
    "g.dfs(adj,0)\n"
   ]
  },
  {
   "cell_type": "code",
   "execution_count": 16,
   "metadata": {},
   "outputs": [
    {
     "data": {
      "text/plain": [
       "[4,\n",
       " 4,\n",
       " 1,\n",
       " 4,\n",
       " 13,\n",
       " 8,\n",
       " 8,\n",
       " 8,\n",
       " 0,\n",
       " 8,\n",
       " 14,\n",
       " 9,\n",
       " 15,\n",
       " 11,\n",
       " -1,\n",
       " 10,\n",
       " 15,\n",
       " 22,\n",
       " 22,\n",
       " 22,\n",
       " 22,\n",
       " 22,\n",
       " 21]"
      ]
     },
     "execution_count": 16,
     "metadata": {},
     "output_type": "execute_result"
    }
   ],
   "source": []
  },
  {
   "cell_type": "code",
   "execution_count": null,
   "metadata": {},
   "outputs": [],
   "source": []
  }
 ],
 "metadata": {
  "kernelspec": {
   "display_name": "Python 3",
   "language": "python",
   "name": "python3"
  },
  "language_info": {
   "codemirror_mode": {
    "name": "ipython",
    "version": 3
   },
   "file_extension": ".py",
   "mimetype": "text/x-python",
   "name": "python",
   "nbconvert_exporter": "python",
   "pygments_lexer": "ipython3",
   "version": "3.12.4"
  }
 },
 "nbformat": 4,
 "nbformat_minor": 2
}
