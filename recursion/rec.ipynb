{
 "cells": [
  {
   "cell_type": "code",
   "execution_count": 5,
   "metadata": {},
   "outputs": [
    {
     "name": "stdout",
     "output_type": "stream",
     "text": [
      "1\n",
      "2\n",
      "3\n",
      "4\n"
     ]
    }
   ],
   "source": [
    "def repeat(i,n):\n",
    "    if i>=n:\n",
    "        return \n",
    "    print(i)\n",
    "    repeat(i+1,n)\n",
    "    \n",
    "repeat(1,5)"
   ]
  },
  {
   "cell_type": "code",
   "execution_count": null,
   "metadata": {},
   "outputs": [],
   "source": [
    "def printing(ind,ds,arr,n):\n",
    "    if ind==n:\n",
    "        return\n",
    "    ds.append(arr[ind])\n",
    "    printing(ind+1,ds,arr,n)\n",
    "    ds.pop()\n",
    "    \n",
    "    \n",
    "    \n",
    "\n",
    "\n",
    "arr = [1,2,3,4,5]\n",
    "printing(0,[],arr,len(arr))"
   ]
  }
 ],
 "metadata": {
  "kernelspec": {
   "display_name": "Python 3",
   "language": "python",
   "name": "python3"
  },
  "language_info": {
   "codemirror_mode": {
    "name": "ipython",
    "version": 3
   },
   "file_extension": ".py",
   "mimetype": "text/x-python",
   "name": "python",
   "nbconvert_exporter": "python",
   "pygments_lexer": "ipython3",
   "version": "3.12.4"
  }
 },
 "nbformat": 4,
 "nbformat_minor": 2
}
