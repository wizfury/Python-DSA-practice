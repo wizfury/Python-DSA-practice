{
 "cells": [
  {
   "cell_type": "code",
   "execution_count": 1,
   "metadata": {},
   "outputs": [
    {
     "name": "stdout",
     "output_type": "stream",
     "text": [
      "1->2->3\n"
     ]
    }
   ],
   "source": [
    "#Reverse the linkedlist\n",
    "\n",
    "#use the stack to\n",
    "# 1.Traverse and push into stack\n",
    "# 2.The pop one by one\n",
    "\n",
    "class Node:\n",
    "    def __init__(self,data,next=None):\n",
    "        self.data=data\n",
    "        self.next=next\n",
    "        \n",
    "def reverse_ll(head):\n",
    "    \n",
    "    #get the head\n",
    "    temp = head\n",
    "    \n",
    "    # createtemporary stack\n",
    "    stack=[]\n",
    "    \n",
    "    while temp:\n",
    "        #push ll values into stack\n",
    "        stack.append(temp.data)\n",
    "        #move to next node\n",
    "        temp=temp.next\n",
    "    \n",
    "    #reset the temp\n",
    "    temp=head\n",
    "    \n",
    "    #traverse the ll\n",
    "    while temp:\n",
    "        \n",
    "        #pop the stack and assign to node\n",
    "        temp.data = stack.pop()\n",
    "        temp=temp.next\n",
    "    return head\n",
    "        \n",
    "\n",
    "def print_linkedist(head):\n",
    "    temp=head\n",
    "    while temp:\n",
    "        if temp.next:\n",
    "            print(temp.data,end=\"->\")\n",
    "        else:\n",
    "            print(temp.data)\n",
    "        \n",
    "        temp=temp.next\n",
    "    \n",
    "head= Node(1)\n",
    "head.next = Node(2)\n",
    "head.next.next = Node(3)\n",
    "print_linkedist(head)\n"
   ]
  },
  {
   "cell_type": "code",
   "execution_count": null,
   "metadata": {},
   "outputs": [],
   "source": []
  },
  {
   "cell_type": "code",
   "execution_count": 15,
   "metadata": {},
   "outputs": [
    {
     "name": "stdout",
     "output_type": "stream",
     "text": [
      "1->2->3->4->5->6\n",
      "3\n",
      "4\n",
      "6\n",
      "1->2->3->4->6\n"
     ]
    }
   ],
   "source": [
    "class Node:\n",
    "    def __init__(self,data,next=None):\n",
    "        self.data=data\n",
    "        self.next=next\n",
    "        \n",
    "def rev(head):\n",
    "    \n",
    "    #initialize temp and prev\n",
    "    temp=head\n",
    "    prev=None\n",
    "    \n",
    "    while temp:\n",
    "        front = temp.next\n",
    "        \n",
    "        temp.next=prev\n",
    "        \n",
    "        temp=front\n",
    "        \n",
    "         \n",
    "\n",
    "\n",
    "\n",
    "def print_linkedist(head):\n",
    "    temp=head\n",
    "    while temp:\n",
    "        if temp.next:\n",
    "            print(temp.data,end=\"->\")\n",
    "        else:\n",
    "            print(temp.data)\n",
    "        \n",
    "        temp=temp.next\n",
    "        \n",
    "def split(head):\n",
    "    temp = head\n",
    "    even = eventail = Node(0)\n",
    "    odd = oddtail = Node(0)\n",
    "    \n",
    "    while temp:\n",
    "        if temp.data%2==0:\n",
    "            eventail.next = temp\n",
    "            eventail = eventail.next\n",
    "        else:\n",
    "            oddtail.next = temp\n",
    "            oddtail=oddtail.next\n",
    "        \n",
    "        temp = temp.next\n",
    "        \n",
    "    eventail.next = odd.next\n",
    "    oddtail.next = None\n",
    "    \n",
    "    return even.next\n",
    "\n",
    "def deletenfromend(head,n):\n",
    "    fast= head\n",
    "    slow = head\n",
    "    \n",
    "    for i in range(n):\n",
    "        fast = fast.next \n",
    "        \n",
    "    #if fast becomes none, \n",
    "    if fast is None:\n",
    "        return head.next\n",
    "    \n",
    "    print(fast.data)\n",
    "    while fast.next:\n",
    "        fast = fast.next\n",
    "        slow = slow.next\n",
    "    print(slow.data)\n",
    "    print(fast.data)\n",
    "        \n",
    "    delnode = slow.next\n",
    "    slow.next = slow.next.next\n",
    "    delnode=None\n",
    "        \n",
    "    return head\n",
    "\n",
    "    \n",
    "head= Node(1)\n",
    "head.next = Node(2)\n",
    "head.next.next = Node(3)\n",
    "head.next.next.next = Node(4)\n",
    "head.next.next.next.next = Node(5)\n",
    "head.next.next.next.next.next= Node(6)\n",
    "print_linkedist(head)\n",
    "\n",
    "# print_linkedist(split(head))\n",
    "print_linkedist(deletenfromend(head,2))"
   ]
  },
  {
   "cell_type": "code",
   "execution_count": 18,
   "metadata": {},
   "outputs": [
    {
     "data": {
      "text/plain": [
       "True"
      ]
     },
     "execution_count": 18,
     "metadata": {},
     "output_type": "execute_result"
    }
   ],
   "source": [
    "n=int(input(\"enter no\"))\n",
    "org_n=str(n)\n",
    "rev_n=org_n[::-1]\n",
    "rev_n==org_n"
   ]
  },
  {
   "cell_type": "code",
   "execution_count": 11,
   "metadata": {},
   "outputs": [
    {
     "name": "stdout",
     "output_type": "stream",
     "text": [
      "Invalid Input\n"
     ]
    }
   ],
   "source": [
    "inp = \"banana apple banana apple apple 3\"\n",
    "\n",
    "\n",
    "\n",
    "items = inp.split(' ')\n",
    "dict = {}\n",
    "\n",
    "flag=0\n",
    "\n",
    "for item in items:\n",
    "    if item.isdigit():\n",
    "        flag=1\n",
    "\n",
    "if flag==1:\n",
    "    print(\"Invalid Input\")\n",
    "else:\n",
    "    for item in items:\n",
    "        if item in dict:\n",
    "            dict[item]+=1\n",
    "        else:\n",
    "            dict[item]=1\n",
    "        \n",
    "    print(dict)\n",
    "        \n",
    "\n",
    "\n",
    "    "
   ]
  },
  {
   "cell_type": "code",
   "execution_count": 10,
   "metadata": {},
   "outputs": [
    {
     "name": "stdout",
     "output_type": "stream",
     "text": [
      "True\n"
     ]
    }
   ],
   "source": [
    "\n",
    "if __name__==\"__main__\":\n",
    "    n=28\n",
    "    sum=0\n",
    "    for i in range(1,n):\n",
    "         if n%i==0:\n",
    "            sum+=i\n",
    "    if sum==n:\n",
    "        print(True)"
   ]
  },
  {
   "cell_type": "code",
   "execution_count": 5,
   "metadata": {},
   "outputs": [
    {
     "name": "stdout",
     "output_type": "stream",
     "text": [
      "['145', '1', '2', '208805']\n"
     ]
    }
   ],
   "source": [
    "def fact(n):\n",
    "    if n==0:\n",
    "        return 1\n",
    "    else:\n",
    "        return n*fact(n-1)\n",
    "    \n",
    "x=\"145 1 2 208805\"\n",
    "nums = x.split(' ')\n",
    "print(nums)\n",
    "sum=0\n",
    "for number in nums:\n",
    "    \n",
    "    for i in number:\n",
    "        sum+= fact(int(i))\n",
    "    if (int(x)==sum):\n",
    "        print(sum)"
   ]
  },
  {
   "cell_type": "code",
   "execution_count": null,
   "metadata": {},
   "outputs": [],
   "source": []
  }
 ],
 "metadata": {
  "kernelspec": {
   "display_name": "Python 3",
   "language": "python",
   "name": "python3"
  },
  "language_info": {
   "codemirror_mode": {
    "name": "ipython",
    "version": 3
   },
   "file_extension": ".py",
   "mimetype": "text/x-python",
   "name": "python",
   "nbconvert_exporter": "python",
   "pygments_lexer": "ipython3",
   "version": "3.12.4"
  }
 },
 "nbformat": 4,
 "nbformat_minor": 2
}
