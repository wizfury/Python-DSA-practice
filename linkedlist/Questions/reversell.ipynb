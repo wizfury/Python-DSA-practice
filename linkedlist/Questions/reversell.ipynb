{
 "cells": [
  {
   "cell_type": "code",
   "execution_count": 1,
   "metadata": {},
   "outputs": [
    {
     "name": "stdout",
     "output_type": "stream",
     "text": [
      "1->2->3\n"
     ]
    }
   ],
   "source": [
    "#Reverse the linkedlist\n",
    "\n",
    "#use the stack to\n",
    "# 1.Traverse and push into stack\n",
    "# 2.The pop one by one\n",
    "\n",
    "class Node:\n",
    "    def __init__(self,data,next=None):\n",
    "        self.data=data\n",
    "        self.next=next\n",
    "        \n",
    "def reverse_ll(head):\n",
    "    \n",
    "    #get the head\n",
    "    temp = head\n",
    "    \n",
    "    # createtemporary stack\n",
    "    stack=[]\n",
    "    \n",
    "    while temp:\n",
    "        #push ll values into stack\n",
    "        stack.append(temp.data)\n",
    "        #move to next node\n",
    "        temp=temp.next\n",
    "    \n",
    "    #reset the temp\n",
    "    temp=head\n",
    "    \n",
    "    #traverse the ll\n",
    "    while temp:\n",
    "        \n",
    "        #pop the stack and assign to node\n",
    "        temp.data = stack.pop()\n",
    "        temp=temp.next\n",
    "    return head\n",
    "        \n",
    "\n",
    "def print_linkedist(head):\n",
    "    temp=head\n",
    "    while temp:\n",
    "        if temp.next:\n",
    "            print(temp.data,end=\"->\")\n",
    "        else:\n",
    "            print(temp.data)\n",
    "        \n",
    "        temp=temp.next\n",
    "    \n",
    "head= Node(1)\n",
    "head.next = Node(2)\n",
    "head.next.next = Node(3)\n",
    "print_linkedist(head)\n"
   ]
  },
  {
   "cell_type": "code",
   "execution_count": null,
   "metadata": {},
   "outputs": [],
   "source": [
    "class Node:\n",
    "    def __init__(self,data,next=None):\n",
    "        self.data=data\n",
    "        self.next=next\n",
    "        \n",
    "def rev(head):\n",
    "    \n",
    "    #initialize temp and prev\n",
    "    temp=head\n",
    "    prev=None\n",
    "    \n",
    "    while temp:\n",
    "        front = temp.next\n",
    "        \n",
    "        temp.next=prev\n",
    "        \n",
    "        temp=front\n",
    "        \n",
    "         \n",
    "\n",
    "\n",
    "\n",
    "def print_linkedist(head):\n",
    "    temp=head\n",
    "    while temp:\n",
    "        if temp.next:\n",
    "            print(temp.data,end=\"->\")\n",
    "        else:\n",
    "            print(temp.data)\n",
    "        \n",
    "        temp=temp.next\n",
    "    \n",
    "head= Node(1)\n",
    "head.next = Node(2)\n",
    "head.next.next = Node(3)\n",
    "print_linkedist(head)"
   ]
  }
 ],
 "metadata": {
  "kernelspec": {
   "display_name": "Python 3",
   "language": "python",
   "name": "python3"
  },
  "language_info": {
   "codemirror_mode": {
    "name": "ipython",
    "version": 3
   },
   "file_extension": ".py",
   "mimetype": "text/x-python",
   "name": "python",
   "nbconvert_exporter": "python",
   "pygments_lexer": "ipython3",
   "version": "3.12.4"
  }
 },
 "nbformat": 4,
 "nbformat_minor": 2
}
