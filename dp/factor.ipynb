{
 "cells": [
  {
   "cell_type": "code",
   "execution_count": 2,
   "metadata": {},
   "outputs": [
    {
     "name": "stdout",
     "output_type": "stream",
     "text": [
      "6\n"
     ]
    }
   ],
   "source": []
  },
  {
   "cell_type": "code",
   "execution_count": 11,
   "metadata": {},
   "outputs": [
    {
     "data": {
      "text/plain": [
       "[0, 1, 1, 2, 3, 5, 8, 13]"
      ]
     },
     "execution_count": 11,
     "metadata": {},
     "output_type": "execute_result"
    }
   ],
   "source": [
    "\n",
    "#memorization\n",
    "\n",
    "def fib(n,dp):  \n",
    "    if n==0:\n",
    "        dp[n]=0\n",
    "        return 0\n",
    "    elif n==1:\n",
    "        dp[n]=1\n",
    "        return 1\n",
    "    elif dp[n]!=-1:\n",
    "        return dp[n]\n",
    "    else:\n",
    "\n",
    "        dp[n]= fib(n-1,dp) + fib(n-2,dp)\n",
    "        return dp[n]\n",
    "    \n",
    "dp= [-1]*(8)\n",
    "fib(7,dp)\n",
    "\n",
    "dp"
   ]
  },
  {
   "cell_type": "code",
   "execution_count": 15,
   "metadata": {},
   "outputs": [
    {
     "data": {
      "text/plain": [
       "6"
      ]
     },
     "execution_count": 15,
     "metadata": {},
     "output_type": "execute_result"
    }
   ],
   "source": [
    "#0-1 approach\n",
    "val = [1,2,3,4,3,2,1]\n",
    "wt= [3,4,5,2,1,2,1]\n",
    "\n",
    "\n",
    "def solve(n,cap):\n",
    "    if n==0 or cap==0:\n",
    "        return 0\n",
    "    else:\n",
    "        currentwt = val[n-1]\n",
    "        currentval = val[n-1]\n",
    "        if currentwt<=cap:\n",
    "            c1 = currentval+ solve(n-1, cap-currentwt)\n",
    "            c2 = solve(n-1,cap)\n",
    "            return max(c1,c2)\n",
    "        else:\n",
    "            return 0+solve(n-1,cap)\n",
    "\n",
    "solve(3,10)  \n",
    "    \n",
    "\n"
   ]
  },
  {
   "cell_type": "code",
   "execution_count": 17,
   "metadata": {},
   "outputs": [
    {
     "data": {
      "text/plain": [
       "0"
      ]
     },
     "execution_count": 17,
     "metadata": {},
     "output_type": "execute_result"
    }
   ],
   "source": [
    "# n items\n",
    "# sum=20\n",
    "\n",
    "arr = [1,4,3,5,6,4,2,7,0]\n",
    "\n",
    "def solve(n,sum):\n",
    "    if sum==0:\n",
    "        return 1\n",
    "    elif n==0:\n",
    "        return 0\n",
    "    else:\n",
    "        item= arr[n-1]\n",
    "        if item<sum:\n",
    "            c1 = solve(n-1,sum-item)\n",
    "            c2= solve(n-1,sum)\n",
    "            return c1 or c2\n",
    "        else:\n",
    "            return solve(n-1,sum)\n",
    "        \n",
    "solve(6,12)"
   ]
  },
  {
   "cell_type": "code",
   "execution_count": null,
   "metadata": {},
   "outputs": [],
   "source": []
  }
 ],
 "metadata": {
  "kernelspec": {
   "display_name": "Python 3",
   "language": "python",
   "name": "python3"
  },
  "language_info": {
   "codemirror_mode": {
    "name": "ipython",
    "version": 3
   },
   "file_extension": ".py",
   "mimetype": "text/x-python",
   "name": "python",
   "nbconvert_exporter": "python",
   "pygments_lexer": "ipython3",
   "version": "3.11.5"
  }
 },
 "nbformat": 4,
 "nbformat_minor": 2
}
