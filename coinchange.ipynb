{
 "cells": [
  {
   "cell_type": "code",
   "execution_count": null,
   "metadata": {},
   "outputs": [
    {
     "ename": "",
     "evalue": "",
     "output_type": "error",
     "traceback": [
      "\u001b[1;31mRunning cells with 'Python 3.12.4' requires the ipykernel package.\n",
      "\u001b[1;31mRun the following command to install 'ipykernel' into the Python environment. \n",
      "\u001b[1;31mCommand: 'c:/Users/aakar/AppData/Local/Programs/Python/Python312/python.exe -m pip install ipykernel -U --user --force-reinstall'"
     ]
    }
   ],
   "source": [
    "coins=[1,2,5,10,20,100,1000]\n",
    "\n",
    "total_amt=1035\n",
    "\n",
    "#Take the max from coins and compare with total\n",
    "#if result positive take the coin\n",
    "#else go from back and find the number close to total, and add to list\n",
    "\n",
    "coins.sort()\n",
    "index = len(coins)-1\n",
    "N=total_amt\n",
    "\n",
    "while True:\n",
    "    coinVal = coins[index]\n",
    "    \n",
    "    if N>=coinVal:\n",
    "        print(coinVal)\n",
    "        N=N-coinVal\n",
    "    if N<coinVal:\n",
    "        index-=1\n",
    "    if N==0:\n",
    "        break"
   ]
  },
  {
   "cell_type": "code",
   "execution_count": null,
   "metadata": {},
   "outputs": [],
   "source": []
  }
 ],
 "metadata": {
  "kernelspec": {
   "display_name": "Python 3",
   "language": "python",
   "name": "python3"
  },
  "language_info": {
   "codemirror_mode": {
    "name": "ipython",
    "version": 3
   },
   "file_extension": ".py",
   "mimetype": "text/x-python",
   "name": "python",
   "nbconvert_exporter": "python",
   "pygments_lexer": "ipython3",
   "version": "3.12.4"
  }
 },
 "nbformat": 4,
 "nbformat_minor": 2
}
