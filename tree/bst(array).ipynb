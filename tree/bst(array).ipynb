{
 "cells": [
  {
   "cell_type": "code",
   "execution_count": 6,
   "metadata": {},
   "outputs": [
    {
     "name": "stdout",
     "output_type": "stream",
     "text": [
      "Hot Cold Coffee None Tea "
     ]
    }
   ],
   "source": [
    "class BinaryTree:\n",
    "    def __init__(self, size):\n",
    "        self.customList  =[None]* size\n",
    "        self.lastUsedIndex = 0\n",
    "        self.maxsize = size\n",
    "        \n",
    "    def insert(self,value):\n",
    "        if self.maxsize+1==self.maxsize:\n",
    "            return \"The Binary Tree is full\"\n",
    "        self.customList[self.lastUsedIndex]=value\n",
    "        self.lastUsedIndex+=1\n",
    "        return \"The value has been successfully inserted\"\n",
    "    \n",
    "    def search(self,nodeValue):\n",
    "        for i in range(self.lastUsedIndex):\n",
    "            if self.customList[i]==nodeValue:\n",
    "                return \"Success\"\n",
    "        return \"not success\"\n",
    "    \n",
    "    def preorderTraversel(self,index):\n",
    "        if index> self.lastUsedIndex:\n",
    "            return\n",
    "        print(self.customList[index],end=\" \")\n",
    "        self.preorderTraversel(2*index)\n",
    "        self.preorderTraversel(2*index+1)\n",
    "        \n",
    "    def inorderTraversel(self,index):\n",
    "        if index> self.lastUsedIndex:\n",
    "            return\n",
    "        self.inorderTraversel(2*index)\n",
    "        print(self.customList[index],end=\" \")\n",
    "        self.inorderTraversel(2*index+1)\n",
    "        \n",
    "        \n",
    "        \n",
    "        \n",
    "\n",
    "\n",
    "newBt =  BinaryTree(8)\n",
    "newBt.insert(\"Drinks\")\n",
    "newBt.insert(\"Hot\")\n",
    "newBt.insert(\"Cold\")\n",
    "newBt.insert(\"Tea\")\n",
    "newBt.insert(\"Coffee\")\n",
    "\n",
    "newBt.search(\"Tea\")\n",
    "\n",
    "newBt.preorderTraversel(1)\n",
    "\n",
    "\n",
    "\n",
    "\n",
    "\n",
    "        "
   ]
  },
  {
   "cell_type": "code",
   "execution_count": null,
   "metadata": {},
   "outputs": [],
   "source": []
  }
 ],
 "metadata": {
  "kernelspec": {
   "display_name": "Python 3",
   "language": "python",
   "name": "python3"
  },
  "language_info": {
   "codemirror_mode": {
    "name": "ipython",
    "version": 3
   },
   "file_extension": ".py",
   "mimetype": "text/x-python",
   "name": "python",
   "nbconvert_exporter": "python",
   "pygments_lexer": "ipython3",
   "version": "3.12.4"
  }
 },
 "nbformat": 4,
 "nbformat_minor": 2
}
