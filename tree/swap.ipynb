{
 "cells": [
  {
   "cell_type": "code",
   "execution_count": 2,
   "metadata": {},
   "outputs": [
    {
     "name": "stdout",
     "output_type": "stream",
     "text": [
      "6\n",
      "5\n"
     ]
    }
   ],
   "source": [
    "#swap\n",
    "a=5\n",
    "b=6\n",
    "a=a^b\n",
    "b=a^b\n",
    "a=a^b\n",
    "\n",
    "print(a)\n",
    "print(b)\n"
   ]
  },
  {
   "cell_type": "code",
   "execution_count": 3,
   "metadata": {},
   "outputs": [
    {
     "name": "stdout",
     "output_type": "stream",
     "text": [
      "True\n"
     ]
    }
   ],
   "source": [
    "#shift op\n",
    "#13\n",
    "#1101\n",
    "#(1<<2)\n",
    "# and with 12\n",
    "# (13&(i<<2)!=0)\n",
    "#then it is set\n",
    "\n",
    "a=13\n",
    "i=2\n",
    "print(a&(1<<i)!=0) # True\n"
   ]
  },
  {
   "cell_type": "code",
   "execution_count": 6,
   "metadata": {},
   "outputs": [
    {
     "name": "stdout",
     "output_type": "stream",
     "text": [
      "True\n"
     ]
    }
   ],
   "source": [
    "#right shift\n",
    "a=13\n",
    "i=2\n",
    "print((a>>i)&1!=0)\n"
   ]
  },
  {
   "cell_type": "code",
   "execution_count": 13,
   "metadata": {},
   "outputs": [
    {
     "name": "stdout",
     "output_type": "stream",
     "text": [
      "[['est'], ['tea', 'ate'], ['tan', 'nat'], ['bat']]\n"
     ]
    }
   ],
   "source": [
    "strs = [\"est\",\"tea\",\"tan\",\"ate\",\"nat\",\"bat\"]\n",
    "\n",
    "from collections import defaultdict\n",
    "\n",
    "anagram_map =defaultdict(list)\n",
    "result=[]\n",
    "\n",
    "for s in strs:\n",
    "    sorted_s = tuple(sorted(s))\n",
    "    anagram_map[sorted_s].append(s)\n",
    "    \n",
    "\n",
    "for value in anagram_map.values():\n",
    "    result.append(value)\n",
    "print(result)"
   ]
  },
  {
   "cell_type": "code",
   "execution_count": 2,
   "metadata": {},
   "outputs": [
    {
     "data": {
      "text/plain": [
       "3"
      ]
     },
     "execution_count": 2,
     "metadata": {},
     "output_type": "execute_result"
    }
   ],
   "source": [
    "text1=\"abbacd\"\n",
    "text2=\"abc\"\n",
    "\n",
    "dp = [[0 for j in range(len(text2)+1)]for i in range(len(text1)+1)]\n",
    "\n",
    "for i in range(len(text1)-1,-1,-1):\n",
    "    for j in range(len(text2)-1,-1,-1):\n",
    "        if text1[i] == text2[j]:\n",
    "            dp[i][j]= 1+dp[i+1][j+1]\n",
    "        \n",
    "        else:\n",
    "            dp[i][j] = max(dp[i][j+1], dp[i+1][j])\n",
    "dp[0][0]"
   ]
  },
  {
   "cell_type": "code",
   "execution_count": null,
   "metadata": {},
   "outputs": [],
   "source": []
  }
 ],
 "metadata": {
  "kernelspec": {
   "display_name": "Python 3",
   "language": "python",
   "name": "python3"
  },
  "language_info": {
   "codemirror_mode": {
    "name": "ipython",
    "version": 3
   },
   "file_extension": ".py",
   "mimetype": "text/x-python",
   "name": "python",
   "nbconvert_exporter": "python",
   "pygments_lexer": "ipython3",
   "version": "3.12.4"
  }
 },
 "nbformat": 4,
 "nbformat_minor": 2
}
