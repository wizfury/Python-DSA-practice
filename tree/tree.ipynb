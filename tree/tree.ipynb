{
 "cells": [
  {
   "cell_type": "code",
   "execution_count": 1,
   "metadata": {},
   "outputs": [
    {
     "name": "stdout",
     "output_type": "stream",
     "text": [
      "Drinks\n",
      " cold\n",
      " hot\n",
      "\n"
     ]
    }
   ],
   "source": [
    "class TreeNone:\n",
    "    def __init__(self,data,children) -> None:\n",
    "        self.data=data\n",
    "        self.children = children\n",
    "        \n",
    "    def __str__(self,level=0):\n",
    "        ret = \" \"*level + str(self.data)+\"\\n\"\n",
    "        for child in self.children:\n",
    "            ret += child.__str__(level+1)\n",
    "        return ret\n",
    "\n",
    "    def addChild(self,Treenode):\n",
    "        self.children.append(Treenode)\n",
    "    \n",
    "    \n",
    "tree= TreeNone(\"Drinks\",[])\n",
    "cold = TreeNone('cold',[])\n",
    "hot = TreeNone('hot',[])\n",
    "\n",
    "tree.addChild(cold)\n",
    "tree.addChild(hot)\n",
    "print(tree)\n",
    "\n",
    "\n",
    "        \n",
    "        \n",
    "    "
   ]
  },
  {
   "cell_type": "code",
   "execution_count": null,
   "metadata": {},
   "outputs": [],
   "source": []
  }
 ],
 "metadata": {
  "kernelspec": {
   "display_name": "Python 3",
   "language": "python",
   "name": "python3"
  },
  "language_info": {
   "codemirror_mode": {
    "name": "ipython",
    "version": 3
   },
   "file_extension": ".py",
   "mimetype": "text/x-python",
   "name": "python",
   "nbconvert_exporter": "python",
   "pygments_lexer": "ipython3",
   "version": "3.12.4"
  }
 },
 "nbformat": 4,
 "nbformat_minor": 2
}
