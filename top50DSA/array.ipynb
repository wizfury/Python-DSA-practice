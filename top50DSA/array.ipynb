{
 "cells": [
  {
   "cell_type": "code",
   "execution_count": 4,
   "metadata": {},
   "outputs": [
    {
     "name": "stdout",
     "output_type": "stream",
     "text": [
      "5050\n"
     ]
    },
    {
     "data": {
      "text/plain": [
       "100"
      ]
     },
     "execution_count": 4,
     "metadata": {},
     "output_type": "execute_result"
    }
   ],
   "source": [
    "# 1. How do you find the missing number in a given integer array of 1 to 100?\n",
    "\n",
    "#Approach 1:\n",
    "\n",
    "def findmissing(arr):\n",
    "    \n",
    "    n=100\n",
    "    expected_num = n*(n+1)//2\n",
    "    print(expected_num)\n",
    "    return expected_num-sum(arr)\n",
    "\n",
    "arr = [x for x in range(1,100)]\n",
    "\n",
    "findmissing(arr)\n"
   ]
  },
  {
   "cell_type": "code",
   "execution_count": null,
   "metadata": {},
   "outputs": [],
   "source": []
  },
  {
   "cell_type": "code",
   "execution_count": 9,
   "metadata": {},
   "outputs": [
    {
     "name": "stdout",
     "output_type": "stream",
     "text": [
      "0\n"
     ]
    },
    {
     "data": {
      "text/plain": [
       "100"
      ]
     },
     "execution_count": 9,
     "metadata": {},
     "output_type": "execute_result"
    }
   ],
   "source": [
    "#XOR Approach\n",
    "\n",
    "def missing_number(arr):\n",
    "    n=100\n",
    "    xor_full = 0\n",
    "    xor_arr= 0\n",
    "    \n",
    "    for i in range(1,n+1):\n",
    "        xor_full ^= i\n",
    "        \n",
    "    \n",
    "    for num in arr:\n",
    "        xor_arr ^= num\n",
    "        \n",
    "    \n",
    "        \n",
    "    return xor_full^xor_arr\n",
    "\n",
    "arr = [x for x in range(1,100)]\n",
    "\n",
    "missing_number(arr)\n"
   ]
  },
  {
   "cell_type": "code",
   "execution_count": 21,
   "metadata": {},
   "outputs": [
    {
     "data": {
      "text/plain": [
       "1957"
      ]
     },
     "execution_count": 21,
     "metadata": {},
     "output_type": "execute_result"
    }
   ],
   "source": [
    "1001^1100"
   ]
  },
  {
   "cell_type": "code",
   "execution_count": null,
   "metadata": {},
   "outputs": [],
   "source": []
  }
 ],
 "metadata": {
  "kernelspec": {
   "display_name": "Python 3",
   "language": "python",
   "name": "python3"
  },
  "language_info": {
   "codemirror_mode": {
    "name": "ipython",
    "version": 3
   },
   "file_extension": ".py",
   "mimetype": "text/x-python",
   "name": "python",
   "nbconvert_exporter": "python",
   "pygments_lexer": "ipython3",
   "version": "3.11.5"
  }
 },
 "nbformat": 4,
 "nbformat_minor": 2
}
