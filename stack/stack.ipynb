{
 "cells": [
  {
   "cell_type": "markdown",
   "metadata": {},
   "source": [
    "#### Stack using list\n",
    "- Easy to implement\n",
    "- Speed problem when it grows\n",
    "\n",
    "#### Stack using Linked List\n",
    "- Fast Performance\n",
    "- Memory efficient\n",
    "- Easy to implement"
   ]
  },
  {
   "cell_type": "code",
   "execution_count": 15,
   "metadata": {},
   "outputs": [
    {
     "name": "stdout",
     "output_type": "stream",
     "text": [
      "peek 3\n",
      "3\n",
      "2\n",
      "1\n"
     ]
    }
   ],
   "source": [
    "class Stack:\n",
    "    def __init__(self):\n",
    "        self.list=[]\n",
    "        \n",
    "    def __str__(self):\n",
    "        values=self.list.reverse()\n",
    "        values = [str(x) for x in self.list]\n",
    "        return '\\n'.join(values)\n",
    "    # isEmpty\n",
    "    def isEmpty(self):\n",
    "        if self.list==[]:\n",
    "            return True\n",
    "        else:\n",
    "            return False\n",
    "        \n",
    "    #push\n",
    "    def push(self,value):\n",
    "        self.list.append(value)\n",
    "        return \"The element has been successfully inserted\"\n",
    "    \n",
    "    #pop\n",
    "    def pop(self):\n",
    "        \n",
    "        if self.isEmpty():\n",
    "            return \"No element in the stack\"\n",
    "        else:\n",
    "            return self.list.pop()\n",
    "        \n",
    "    #peek\n",
    "    def peek(self):\n",
    "        if self.isEmpty():\n",
    "            return \"There is not any element is the stack\"\n",
    "        else:\n",
    "            return self.list[len(self.list)-1]\n",
    "    \n",
    "    #delete\n",
    "    def delete(self):\n",
    "        self.list = None\n",
    "        \n",
    "        \n",
    "        \n",
    "customstack = Stack()\n",
    "customstack.push(1)\n",
    "customstack.push(2)\n",
    "customstack.push(3)\n",
    "print(\"peek: \",customstack.peek())\n",
    "\n",
    "print(customstack)\n",
    "\n",
    "    "
   ]
  },
  {
   "cell_type": "code",
   "execution_count": null,
   "metadata": {},
   "outputs": [],
   "source": []
  },
  {
   "cell_type": "code",
   "execution_count": null,
   "metadata": {},
   "outputs": [],
   "source": []
  }
 ],
 "metadata": {
  "kernelspec": {
   "display_name": "Python 3",
   "language": "python",
   "name": "python3"
  },
  "language_info": {
   "codemirror_mode": {
    "name": "ipython",
    "version": 3
   },
   "file_extension": ".py",
   "mimetype": "text/x-python",
   "name": "python",
   "nbconvert_exporter": "python",
   "pygments_lexer": "ipython3",
   "version": "3.12.4"
  }
 },
 "nbformat": 4,
 "nbformat_minor": 2
}
