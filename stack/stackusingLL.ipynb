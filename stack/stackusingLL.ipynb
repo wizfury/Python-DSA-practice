{
 "cells": [
  {
   "cell_type": "code",
   "execution_count": 7,
   "metadata": {},
   "outputs": [
    {
     "name": "stdout",
     "output_type": "stream",
     "text": [
      "True\n",
      "3 -> 2 -> 1\n",
      "2 -> 1\n"
     ]
    }
   ],
   "source": [
    "class Node:\n",
    "    def __init__(self,data=None):\n",
    "        self.data = data \n",
    "        self.next = None\n",
    "    \n",
    "class LL:\n",
    "    def __init__(self):\n",
    "        self.head=None\n",
    "    \n",
    "    def __iter__(self):\n",
    "        curNode = self.head\n",
    "        while curNode:\n",
    "            yield curNode\n",
    "            curNode = curNode.next\n",
    "        \n",
    "class Stack:\n",
    "    def __init__(self) -> None:\n",
    "        self.linkedlist = LL()\n",
    "    \n",
    "    def __str__(self):\n",
    "        values = [str(x.data) for x in self.linkedlist]\n",
    "        return ' -> '.join(values)\n",
    "        \n",
    "    def isEmpty(self):\n",
    "        if self.linkedlist.head==None:\n",
    "            return True\n",
    "        else:\n",
    "            return False\n",
    "    \n",
    "    def push(self,data):\n",
    "        node = Node(data)\n",
    "        node.next= self.linkedlist.head\n",
    "        self.linkedlist.head = node\n",
    "        \n",
    "    def pop(self):\n",
    "        if self.isEmpty():\n",
    "            return \"Stack is empty\"\n",
    "        else:\n",
    "            nodeValue=self.linkedlist.head\n",
    "            self.linkedlist.head= self.linkedlist.head.next\n",
    "            return nodeValue.data\n",
    "    \n",
    "    def peek(self):\n",
    "        if self.isEmpty():\n",
    "            return \"Stack is empty\"\n",
    "        else:\n",
    "            return self.linkedlist.head.data\n",
    "        \n",
    "            \n",
    "            \n",
    "        \n",
    "        \n",
    "        \n",
    "\n",
    "customStack = Stack()\n",
    "print(customStack.isEmpty())\n",
    "customStack.push(1)\n",
    "customStack.push(2)\n",
    "customStack.push(3)\n",
    "print(customStack)\n",
    "customStack.pop()\n",
    "print(customStack)\n",
    "\n"
   ]
  },
  {
   "cell_type": "code",
   "execution_count": null,
   "metadata": {},
   "outputs": [],
   "source": []
  }
 ],
 "metadata": {
  "kernelspec": {
   "display_name": "Python 3",
   "language": "python",
   "name": "python3"
  },
  "language_info": {
   "codemirror_mode": {
    "name": "ipython",
    "version": 3
   },
   "file_extension": ".py",
   "mimetype": "text/x-python",
   "name": "python",
   "nbconvert_exporter": "python",
   "pygments_lexer": "ipython3",
   "version": "3.12.4"
  }
 },
 "nbformat": 4,
 "nbformat_minor": 2
}
