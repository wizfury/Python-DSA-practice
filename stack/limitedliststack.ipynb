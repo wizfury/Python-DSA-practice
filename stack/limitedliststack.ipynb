{
 "cells": [
  {
   "cell_type": "code",
   "execution_count": 10,
   "metadata": {},
   "outputs": [
    {
     "name": "stdout",
     "output_type": "stream",
     "text": [
      "True\n",
      "False\n",
      "peek: 3\n",
      "3\n",
      "2\n",
      "1\n"
     ]
    }
   ],
   "source": [
    "class Stack:\n",
    "    def __init__(self,maxsize):\n",
    "        self.maxsize = maxsize\n",
    "        self.list = []\n",
    "    \n",
    "    def __str__(self):\n",
    "        values = self.list.reverse()\n",
    "        values = [str(x) for x in self.list]\n",
    "        return '\\n'.join(values)\n",
    "    \n",
    "    def isEmpty(self):\n",
    "        if self.list==[]:\n",
    "            return True\n",
    "        else:\n",
    "            return False\n",
    "    \n",
    "    #isFull\n",
    "    def isFull(self):\n",
    "        if len(self.list) == self.maxsize:\n",
    "            return True\n",
    "        else:\n",
    "            return False\n",
    "    \n",
    "    #Push\n",
    "    def push(self,value):\n",
    "        if self.isFull():\n",
    "            return \"Stack Overflow\"\n",
    "        else:\n",
    "            self.list.append(value)\n",
    "            return \"The element has been successfully inserted\"\n",
    "        \n",
    "    #Pop\n",
    "    def pop(self):\n",
    "        if self.isEmpty():\n",
    "            return \"The stack is empty\"\n",
    "        else:\n",
    "            self.list.pop()\n",
    "            \n",
    "    #peek\n",
    "    def peek(self):\n",
    "        if self.isEmpty():\n",
    "            return \"The stack is empty\"\n",
    "        else:\n",
    "            return self.list[len(self.list)-1]\n",
    "        \n",
    "    def delete(self):\n",
    "        self.list == None\n",
    "     \n",
    "   \n",
    "customStack = Stack(4)\n",
    "print(customStack.isEmpty()) \n",
    "print(customStack.isFull())\n",
    "customStack.push(1)\n",
    "customStack.push(2)\n",
    "customStack.push(3)\n",
    "print(\"peek:\",customStack.peek())\n",
    "print(customStack)\n",
    "\n"
   ]
  },
  {
   "cell_type": "code",
   "execution_count": null,
   "metadata": {},
   "outputs": [],
   "source": []
  },
  {
   "cell_type": "code",
   "execution_count": null,
   "metadata": {},
   "outputs": [],
   "source": []
  }
 ],
 "metadata": {
  "kernelspec": {
   "display_name": "Python 3",
   "language": "python",
   "name": "python3"
  },
  "language_info": {
   "codemirror_mode": {
    "name": "ipython",
    "version": 3
   },
   "file_extension": ".py",
   "mimetype": "text/x-python",
   "name": "python",
   "nbconvert_exporter": "python",
   "pygments_lexer": "ipython3",
   "version": "3.12.4"
  }
 },
 "nbformat": 4,
 "nbformat_minor": 2
}
