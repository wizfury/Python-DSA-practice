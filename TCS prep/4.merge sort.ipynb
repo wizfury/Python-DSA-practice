{
 "cells": [
  {
   "cell_type": "code",
   "execution_count": null,
   "metadata": {},
   "outputs": [],
   "source": []
  },
  {
   "cell_type": "code",
   "execution_count": 1,
   "metadata": {},
   "outputs": [],
   "source": [
    "a=[6,5,12,10,9,1]"
   ]
  },
  {
   "cell_type": "code",
   "execution_count": 2,
   "metadata": {},
   "outputs": [],
   "source": [
    "def mergesort(arr,l,r):\n",
    "   n=len(arr)\n",
    "   \n",
    "   if n==1:\n",
    "       return arr\n",
    "   \n",
    "   m=len(arr)//2\n",
    "   L=arr[:m]\n",
    "   R=arr[m:]\n",
    "   \n",
    "   L=mergesort(L)\n",
    "   R=mergesort(R)\n",
    "   l,r=0,0\n",
    "   \n",
    "   \n",
    "   sorted_arr =[0]*n\n",
    "   \n",
    "   \n",
    "   \n",
    "        \n"
   ]
  },
  {
   "cell_type": "code",
   "execution_count": null,
   "metadata": {},
   "outputs": [],
   "source": [
    "def min_cost_to_sort(arr):\n",
    "    # Create a sorted version of the array\n",
    "    sorted_arr = sorted(arr)\n",
    "    \n",
    "    # Initialize the cost\n",
    "    total_cost = 0\n",
    "    \n",
    "    # Calculate the cost for transforming arr to sorted_arr\n",
    "    for i in range(len(arr) - 1):\n",
    "        total_cost += abs(sorted_arr[i] - sorted_arr[i + 1])\n",
    "    \n",
    "    return total_cost\n",
    "\n",
    "# Example usage:\n",
    "arr =   # Replace this with the array input\n",
    "print(\"Minimum total cost to transform into a good array:\", min_cost_to_sort(arr))\n"
   ]
  }
 ],
 "metadata": {
  "kernelspec": {
   "display_name": "Python 3",
   "language": "python",
   "name": "python3"
  },
  "language_info": {
   "codemirror_mode": {
    "name": "ipython",
    "version": 3
   },
   "file_extension": ".py",
   "mimetype": "text/x-python",
   "name": "python",
   "nbconvert_exporter": "python",
   "pygments_lexer": "ipython3",
   "version": "3.12.4"
  }
 },
 "nbformat": 4,
 "nbformat_minor": 2
}
