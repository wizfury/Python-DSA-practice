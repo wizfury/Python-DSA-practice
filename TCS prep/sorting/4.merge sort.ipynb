{
 "cells": [
  {
   "cell_type": "code",
   "execution_count": null,
   "metadata": {},
   "outputs": [],
   "source": [
    "#Complexity:\n",
    "#Time: O(nlogn)\n",
    "#space: O(n)"
   ]
  },
  {
   "cell_type": "code",
   "execution_count": 4,
   "metadata": {},
   "outputs": [],
   "source": [
    "a=[-5,3,2,1,-3,-3,7, 2,2]"
   ]
  },
  {
   "cell_type": "code",
   "execution_count": 5,
   "metadata": {},
   "outputs": [],
   "source": [
    "def mergesort(arr):\n",
    "    \n",
    "    #edge case: only 1 element\n",
    "    if len(arr)<=1:\n",
    "        return arr\n",
    "    \n",
    "    #find the middle of the array\n",
    "    mid = len(arr)//2\n",
    "    left = arr[:mid]\n",
    "    right= arr[mid:]\n",
    "    \n",
    "    left= mergesort(left)\n",
    "    right= mergesort(right)\n",
    "    \n",
    "    return  merge(left,right)\n",
    "\n",
    "def merge(left,right):\n",
    "    result = left\n",
    "    \n",
    "    \n",
    "    for i in right:\n",
    "        left.append(i)\n",
    "    result.sort()\n",
    "    return result\n",
    "    \n",
    "    \n",
    "    "
   ]
  },
  {
   "cell_type": "code",
   "execution_count": 6,
   "metadata": {},
   "outputs": [
    {
     "data": {
      "text/plain": [
       "[-5, -3, -3, 1, 2, 2, 2, 3, 7]"
      ]
     },
     "execution_count": 6,
     "metadata": {},
     "output_type": "execute_result"
    }
   ],
   "source": [
    "mergesort(a)"
   ]
  },
  {
   "cell_type": "code",
   "execution_count": null,
   "metadata": {},
   "outputs": [],
   "source": []
  },
  {
   "cell_type": "code",
   "execution_count": 15,
   "metadata": {},
   "outputs": [],
   "source": [
    "a=[-5,3,2,1,-3,-3,7, 2,2]\n"
   ]
  },
  {
   "cell_type": "code",
   "execution_count": 16,
   "metadata": {},
   "outputs": [
    {
     "data": {
      "text/plain": [
       "[-5, -3, -3, 1, 2, 2, 2, 3, 7]"
      ]
     },
     "execution_count": 16,
     "metadata": {},
     "output_type": "execute_result"
    }
   ],
   "source": [
    "def mergesort(arr):\n",
    "    \n",
    "    if len(arr) <=1:\n",
    "        return arr\n",
    "    \n",
    "    mid = len(arr)//2\n",
    "    left = arr[:mid]\n",
    "    right = arr[mid:]\n",
    "    \n",
    "    left = mergesort(left)\n",
    "    right = mergesort(right)\n",
    "    \n",
    "    return merge(left,right)\n",
    "\n",
    "def merge(left,right):\n",
    "    \n",
    "    l,r = 0,0\n",
    "    \n",
    "    result = []\n",
    "    \n",
    "    while l< len(left) and r< len(right):\n",
    "        if left[l] < right[r]:\n",
    "            result.append(left[l])\n",
    "            l+=1\n",
    "            \n",
    "        else:\n",
    "            result.append(right[r])\n",
    "            r+=1\n",
    "    if l<len(left):\n",
    "        result.extend(left[l:])\n",
    "    if r<len(right):\n",
    "        result.extend(right[r:])\n",
    "    return result\n",
    "    \n",
    "    \n",
    "    \n",
    "mergesort(a)  "
   ]
  },
  {
   "cell_type": "code",
   "execution_count": null,
   "metadata": {},
   "outputs": [],
   "source": []
  },
  {
   "cell_type": "code",
   "execution_count": null,
   "metadata": {},
   "outputs": [],
   "source": []
  }
 ],
 "metadata": {
  "kernelspec": {
   "display_name": "Python 3",
   "language": "python",
   "name": "python3"
  },
  "language_info": {
   "codemirror_mode": {
    "name": "ipython",
    "version": 3
   },
   "file_extension": ".py",
   "mimetype": "text/x-python",
   "name": "python",
   "nbconvert_exporter": "python",
   "pygments_lexer": "ipython3",
   "version": "3.12.4"
  }
 },
 "nbformat": 4,
 "nbformat_minor": 2
}
