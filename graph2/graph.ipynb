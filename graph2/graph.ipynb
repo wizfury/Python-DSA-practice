{
 "cells": [
  {
   "cell_type": "code",
   "execution_count": 1,
   "metadata": {},
   "outputs": [
    {
     "name": "stdout",
     "output_type": "stream",
     "text": [
      "a\n",
      "b\n",
      "c\n",
      "d\n",
      "e\n",
      "f\n"
     ]
    },
    {
     "data": {
      "text/plain": [
       "False"
      ]
     },
     "execution_count": 1,
     "metadata": {},
     "output_type": "execute_result"
    }
   ],
   "source": [
    "# DFS: Stack\n",
    "# BFS: Queue\n",
    "\n",
    "class Graph:\n",
    "    def __init__(self, gdict):\n",
    "        if gdict is None:\n",
    "            gdict = {}\n",
    "        self.gdict = gdict\n",
    "    \n",
    "    #iterative\n",
    "    def dfs(self,node):\n",
    "        visited  = [node]\n",
    "        stack = [node]\n",
    "        \n",
    "        while stack:\n",
    "            current= stack.pop()\n",
    "            print(current)\n",
    "            \n",
    "            for adj in self.gdict[current]:\n",
    "                if adj not in visited:\n",
    "                    stack.append(adj)\n",
    "                    visited.append(adj)\n",
    "                    \n",
    "    #recuresive\n",
    "    def dfs_rec(self,source):\n",
    "        print(source)\n",
    "        for adj in self.gdict[source]:\n",
    "            self.dfs_rec(adj)\n",
    "        \n",
    "    #iterative\n",
    "    def bfs(self,node):\n",
    "        visited  = [node]\n",
    "        queue = [node]\n",
    "        while queue:\n",
    "            current = queue.pop(0)\n",
    "            print(current)\n",
    "            for adj in self.gdict[current]:\n",
    "                if adj not in visited:\n",
    "                    visited.append(adj)\n",
    "                    queue.append(adj)\n",
    "    \n",
    "    def haspath(self,src,dest):\n",
    "        if src==dest:\n",
    "            return True\n",
    "        \n",
    "        for adj in self.gdict[src]:\n",
    "            if self.haspath(adj,dest):\n",
    "                return True\n",
    "        return False\n",
    "             \n",
    "graph = {\n",
    "    \"a\": ['b','c'],\n",
    "    \"b\": ['d'],\n",
    "    \"c\": ['e'],\n",
    "    \"d\": ['f'],\n",
    "    \"e\": [],\n",
    "    \"f\": []\n",
    "}\n",
    "\n",
    "graph2={\n",
    "    \"f\":[\"g\",\"i\"],\n",
    "    \"g\":[\"h\"],\n",
    "    \"h\":[],\n",
    "    \"i\":[\"g\",\"k\"],\n",
    "    \"j\":[\"i\"],\n",
    "    \"k\":[]\n",
    "}\n",
    "  \n",
    "g=Graph(graph)\n",
    "g.bfs(\"a\")\n",
    "\n",
    "g.haspath(\"a\",\"f\")\n",
    "\n",
    "g2=Graph(graph2)\n",
    "g.haspath(\"f\",\"k\")\n",
    "\n",
    "\n",
    "\n",
    "\n",
    "\n"
   ]
  },
  {
   "cell_type": "code",
   "execution_count": null,
   "metadata": {},
   "outputs": [],
   "source": []
  },
  {
   "cell_type": "code",
   "execution_count": null,
   "metadata": {},
   "outputs": [],
   "source": []
  },
  {
   "cell_type": "code",
   "execution_count": 2,
   "metadata": {},
   "outputs": [
    {
     "data": {
      "text/plain": [
       "{'i': ['j', 'k'],\n",
       " 'j': ['i'],\n",
       " 'k': ['i', 'm', 'l'],\n",
       " 'm': ['k'],\n",
       " 'l': ['k'],\n",
       " 'o': ['n'],\n",
       " 'n': ['o']}"
      ]
     },
     "execution_count": 2,
     "metadata": {},
     "output_type": "execute_result"
    }
   ],
   "source": [
    "edges = [\n",
    "    ['i','j'],\n",
    "    ['k','i'],\n",
    "    ['m','k'],\n",
    "    ['k','l'],\n",
    "    ['o','n']\n",
    "]\n",
    "graph = {}\n",
    "for a,b in edges:\n",
    "    if a not in graph:\n",
    "        graph[a] = []\n",
    "    if b not in graph:\n",
    "        graph[b]=[]\n",
    "    graph[a].append(b)\n",
    "    graph[b].append(a)\n",
    "graph"
   ]
  },
  {
   "cell_type": "code",
   "execution_count": 4,
   "metadata": {},
   "outputs": [
    {
     "data": {
      "text/plain": [
       "True"
      ]
     },
     "execution_count": 4,
     "metadata": {},
     "output_type": "execute_result"
    }
   ],
   "source": [
    "def haspath(graph,src,dest, visited):\n",
    "    \n",
    "    if src==dest:\n",
    "        return True\n",
    "    \n",
    "    if src in visited:\n",
    "        return False\n",
    "    \n",
    "    visited.add(src)\n",
    "    \n",
    "    for adj in graph[src]:\n",
    "        if haspath(graph,adj,dest,visited):\n",
    "            return True\n",
    "    \n",
    "    return False\n",
    "\n",
    "haspath(graph, 'j','m',set())\n",
    "    "
   ]
  },
  {
   "cell_type": "code",
   "execution_count": 6,
   "metadata": {},
   "outputs": [
    {
     "data": {
      "text/plain": [
       "2"
      ]
     },
     "execution_count": 6,
     "metadata": {},
     "output_type": "execute_result"
    }
   ],
   "source": [
    "#connected components\n",
    "graph = {\n",
    "    0: [8,1,5],\n",
    "    1: [0],\n",
    "    5: [0,8],\n",
    "    8: [0,5],\n",
    "    2: [3,4],\n",
    "    3: [2,4],\n",
    "    4: [3,2]\n",
    "}\n",
    "\n",
    "\n",
    "def connectedComponent(graph):\n",
    "    visited = set()\n",
    "    count=0\n",
    "    for node in graph:\n",
    "        if explore(graph,node,visited):\n",
    "            count+=1\n",
    "    return count\n",
    "\n",
    "         \n",
    "\n",
    "def explore(graph,current,visited):\n",
    "    if current in visited:\n",
    "        return False\n",
    "    \n",
    "    visited.add(current)\n",
    "    \n",
    "    for neighbor in graph[current]:\n",
    "        explore(graph,neighbor,visited)\n",
    "    return True\n",
    "    \n",
    "connectedComponent(graph)"
   ]
  },
  {
   "cell_type": "code",
   "execution_count": 8,
   "metadata": {},
   "outputs": [
    {
     "data": {
      "text/plain": [
       "4"
      ]
     },
     "execution_count": 8,
     "metadata": {},
     "output_type": "execute_result"
    }
   ],
   "source": [
    "#largest componenet \n",
    "\n",
    "graph = {\n",
    "    0: [8,1,5],\n",
    "    1: [0],\n",
    "    5: [0,8],\n",
    "    8: [0,5],\n",
    "    2: [3,4],\n",
    "    3: [2,4],\n",
    "    4: [3,2]\n",
    "}\n",
    "\n",
    "def largestcomponent(graph):\n",
    "    visited=set()\n",
    "    longest=0\n",
    "    for node in graph:\n",
    "        size = explore(graph,node,visited)\n",
    "        \n",
    "        if size>longest:\n",
    "            longest=size\n",
    "    return longest\n",
    "\n",
    "def explore(graph,node,visited):\n",
    "    if node in visited:\n",
    "        return 0\n",
    "    \n",
    "    visited.add(node)\n",
    "    \n",
    "    size=1\n",
    "    for adj in graph[node]:\n",
    "        size+=explore(graph,adj,visited)\n",
    "        \n",
    "    return size  \n",
    "\n",
    "largestcomponent(graph)\n",
    "        "
   ]
  },
  {
   "cell_type": "code",
   "execution_count": 15,
   "metadata": {},
   "outputs": [
    {
     "data": {
      "text/plain": [
       "2"
      ]
     },
     "execution_count": 15,
     "metadata": {},
     "output_type": "execute_result"
    }
   ],
   "source": [
    "#shortest path\n",
    "\n",
    "edges = [\n",
    "    ['w','x'],\n",
    "    ['x','y'],\n",
    "    ['z','y'],\n",
    "    ['z','v'],\n",
    "    ['w','v']\n",
    "]\n",
    "graph = {}\n",
    "for u,v in edges:\n",
    "    if u not in graph:\n",
    "        graph[u] = []\n",
    "    if v not in graph:\n",
    "        graph[v] = []\n",
    "    graph[u].append(v)\n",
    "    graph[v].append(u)\n",
    "\n",
    "#bfs\n",
    "def shortestpath(graph,src,dest):\n",
    "    queue = [(src,0)]\n",
    "    visited = set()\n",
    "    \n",
    "    while queue:\n",
    "        node,distance = queue.pop(0)\n",
    "            \n",
    "        if node==dest:\n",
    "            return distance\n",
    "        \n",
    "        for adj in graph[node]:\n",
    "            if not adj in visited:\n",
    "                visited.add(adj)\n",
    "                queue.append((adj,distance+1))\n",
    "    return -1\n",
    "\n",
    "shortestpath(graph,'w','z')\n"
   ]
  },
  {
   "cell_type": "code",
   "execution_count": 24,
   "metadata": {},
   "outputs": [
    {
     "data": {
      "text/plain": [
       "3"
      ]
     },
     "execution_count": 24,
     "metadata": {},
     "output_type": "execute_result"
    }
   ],
   "source": [
    "#island problem\n",
    "\n",
    "grid = [\n",
    "    ['W', 'L', 'W', 'W', 'W'],\n",
    "    ['W', 'L', 'W', 'W', 'W'],\n",
    "    ['W', 'W', 'W', 'L', 'W'],\n",
    "    ['W', 'W', 'L', 'L', 'W'],\n",
    "    ['L', 'W', 'W', 'L', 'L'],\n",
    "    ['L', 'L', 'W', 'W', 'W'],\n",
    "]\n",
    "\n",
    "def islandcount(grid):\n",
    "    visited = set()\n",
    "    count=0\n",
    "    for r in range(len(grid)):\n",
    "        for c in range(len(grid[r])):\n",
    "            if explore(grid,r,c,visited):\n",
    "                count+=1 \n",
    "    return count\n",
    "                \n",
    "\n",
    "def explore(grid,r,c,visited):\n",
    "    \n",
    "    rowinbound =  0<=r and r<len(grid)\n",
    "    colinbound =  0<=c and c<len(grid[0])\n",
    "    \n",
    "    if (not rowinbound) or (not colinbound):\n",
    "        return False\n",
    "    \n",
    "    \n",
    "    if grid[r][c]=='W':\n",
    "        return False\n",
    "        \n",
    "    if (r,c) in visited:\n",
    "        return False\n",
    "    \n",
    "    visited.add((r,c))\n",
    "    \n",
    "    explore(grid,r-1,c,visited)\n",
    "    explore(grid,r+1,c,visited)\n",
    "    explore(grid,r,c-1,visited)\n",
    "    explore(grid,r,c+1,visited)\n",
    "    \n",
    "    return True\n",
    "    \n",
    "    \n",
    "islandcount(grid)"
   ]
  },
  {
   "cell_type": "code",
   "execution_count": 31,
   "metadata": {},
   "outputs": [
    {
     "data": {
      "text/plain": [
       "inf"
      ]
     },
     "execution_count": 31,
     "metadata": {},
     "output_type": "execute_result"
    }
   ],
   "source": [
    "grid = [\n",
    "    ['W', 'L', 'W', 'W', 'W'],\n",
    "    ['W', 'L', 'W', 'W', 'W'],\n",
    "    ['W', 'W', 'W', 'L', 'W'],\n",
    "    ['W', 'W', 'L', 'L', 'W'],\n",
    "    ['L', 'W', 'W', 'L', 'L'],\n",
    "    ['L', 'L', 'W', 'W', 'W'],\n",
    "]\n",
    "\n",
    "def minimumisland(grid):\n",
    "    visited = set()\n",
    "\n",
    "    minsize = float('inf')\n",
    "    for r in range(len(grid)):\n",
    "        for c in range(len(grid[r])):\n",
    "            size=explore(grid,r,c,visited)\n",
    "            if size<minsize and size>0:\n",
    "                minsize=size\n",
    "                \n",
    "    return minsize\n",
    "                \n",
    "            \n",
    "            \n",
    "def explore(grid,r,c,visited):\n",
    "    rowinbound = r>=0 and r<len(grid)\n",
    "    colinbound = c>=0 and c<len(grid[0])\n",
    "    \n",
    "    if (not rowinbound) and (not colinbound):\n",
    "        return 0\n",
    "    \n",
    "    if grid[r][c]=='W':\n",
    "        return 0\n",
    "    \n",
    "    if grid[r][c] in visited:\n",
    "        return 0\n",
    "    \n",
    "    visited.add(grid[r][c])\n",
    "\n",
    "    size=0\n",
    "    size+=explore(grid,r-1,c,visited)\n",
    "    size+=explore(grid,r+1,c,visited)\n",
    "    size+=explore(grid,r,c-1,visited)\n",
    "    size+=explore(grid,r,c+1,visited)\n",
    "    \n",
    "    return size\n",
    "    \n",
    "            \n",
    "            \n",
    "minimumisland(grid)\n"
   ]
  },
  {
   "cell_type": "code",
   "execution_count": null,
   "metadata": {},
   "outputs": [],
   "source": []
  }
 ],
 "metadata": {
  "kernelspec": {
   "display_name": "Python 3",
   "language": "python",
   "name": "python3"
  },
  "language_info": {
   "codemirror_mode": {
    "name": "ipython",
    "version": 3
   },
   "file_extension": ".py",
   "mimetype": "text/x-python",
   "name": "python",
   "nbconvert_exporter": "python",
   "pygments_lexer": "ipython3",
   "version": "3.12.4"
  }
 },
 "nbformat": 4,
 "nbformat_minor": 2
}
