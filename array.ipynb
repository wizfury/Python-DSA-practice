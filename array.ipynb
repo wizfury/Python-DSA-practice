{
 "cells": [
  {
   "cell_type": "code",
   "execution_count": 1,
   "metadata": {},
   "outputs": [],
   "source": [
    "expense = [2200,2350,2600,2130,2190]"
   ]
  },
  {
   "cell_type": "code",
   "execution_count": 4,
   "metadata": {},
   "outputs": [
    {
     "name": "stdout",
     "output_type": "stream",
     "text": [
      "In Feb, how many dollars you spent extra compare to January? 2600\n"
     ]
    },
    {
     "data": {
      "text/plain": [
       "7150"
      ]
     },
     "execution_count": 4,
     "metadata": {},
     "output_type": "execute_result"
    }
   ],
   "source": [
    "print(\"In Feb, how many dollars you spent extra compare to January?\", expense[2])\n",
    "sum(expense[:3])"
   ]
  },
  {
   "cell_type": "code",
   "execution_count": 11,
   "metadata": {},
   "outputs": [
    {
     "data": {
      "text/plain": [
       "False"
      ]
     },
     "execution_count": 11,
     "metadata": {},
     "output_type": "execute_result"
    }
   ],
   "source": [
    "2000 in expense"
   ]
  },
  {
   "cell_type": "code",
   "execution_count": 13,
   "metadata": {},
   "outputs": [],
   "source": [
    "expense[3]=expense[3]-200"
   ]
  },
  {
   "cell_type": "code",
   "execution_count": 12,
   "metadata": {},
   "outputs": [
    {
     "name": "stdout",
     "output_type": "stream",
     "text": [
      "[1]\n"
     ]
    }
   ],
   "source": [
    "nums = [2,1,1,1,1,2,2]\n",
    "\n",
    "count = {}\n",
    "maxii = []\n",
    "for num in nums:\n",
    "    if num not in count:\n",
    "        count[num] = 1\n",
    "    else:\n",
    "        count[num] += 1\n",
    "\n",
    "max_item = max(count.values())\n",
    "\n",
    "for k,v in count.items():\n",
    "    if v == max_item:\n",
    "        maxii.insert(-1,k)\n",
    "print(maxii)\n",
    "        "
   ]
  },
  {
   "cell_type": "code",
   "execution_count": 13,
   "metadata": {},
   "outputs": [
    {
     "name": "stdout",
     "output_type": "stream",
     "text": [
      "1\n"
     ]
    }
   ],
   "source": [
    "count = 0\n",
    "candidate = 0\n",
    "\n",
    "for num in nums:\n",
    "    \n",
    "    if count==0:\n",
    "        candidate = num\n",
    "    \n",
    "    if num ==candidate:\n",
    "        count += 1\n",
    "        \n",
    "        \n",
    "    else:\n",
    "        count -= 1\n",
    "print(candidate)"
   ]
  },
  {
   "cell_type": "code",
   "execution_count": null,
   "metadata": {},
   "outputs": [],
   "source": []
  }
 ],
 "metadata": {
  "kernelspec": {
   "display_name": "Python 3",
   "language": "python",
   "name": "python3"
  },
  "language_info": {
   "codemirror_mode": {
    "name": "ipython",
    "version": 3
   },
   "file_extension": ".py",
   "mimetype": "text/x-python",
   "name": "python",
   "nbconvert_exporter": "python",
   "pygments_lexer": "ipython3",
   "version": "3.12.4"
  }
 },
 "nbformat": 4,
 "nbformat_minor": 2
}
