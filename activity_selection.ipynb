{
 "cells": [
  {
   "cell_type": "code",
   "execution_count": 1,
   "metadata": {},
   "outputs": [],
   "source": [
    "act= [[\"A1\", 0,6],\n",
    "      [\"A2\", 3,4],\n",
    "      [\"A3\", 1,2],\n",
    "      [\"A4\", 5,8],\n",
    "      [\"A5\", 5,7],\n",
    "      [\"A6\", 8,9],   \n",
    "]"
   ]
  },
  {
   "cell_type": "code",
   "execution_count": 5,
   "metadata": {},
   "outputs": [
    {
     "name": "stdout",
     "output_type": "stream",
     "text": [
      "A3\n",
      "A2\n",
      "A5\n",
      "A6\n"
     ]
    }
   ],
   "source": [
    "def printMax(act):\n",
    "    act.sort(key = lambda x: x[2])\n",
    "    i=0\n",
    "    firstA = act[i][0]\n",
    "    print(firstA)\n",
    "    \n",
    "    for j in range(len(act)):\n",
    "        if act[j][1]>act[i][2]:\n",
    "            print(act[j][0])\n",
    "            i=j\n",
    "            \n",
    "            \n",
    "    \n",
    "printMax(act)"
   ]
  },
  {
   "cell_type": "code",
   "execution_count": null,
   "metadata": {},
   "outputs": [],
   "source": []
  }
 ],
 "metadata": {
  "kernelspec": {
   "display_name": "Python 3",
   "language": "python",
   "name": "python3"
  },
  "language_info": {
   "codemirror_mode": {
    "name": "ipython",
    "version": 3
   },
   "file_extension": ".py",
   "mimetype": "text/x-python",
   "name": "python",
   "nbconvert_exporter": "python",
   "pygments_lexer": "ipython3",
   "version": "3.12.4"
  }
 },
 "nbformat": 4,
 "nbformat_minor": 2
}
