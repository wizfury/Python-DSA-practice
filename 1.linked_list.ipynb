{
 "cells": [
  {
   "cell_type": "code",
   "execution_count": 10,
   "metadata": {},
   "outputs": [
    {
     "name": "stdout",
     "output_type": "stream",
     "text": [
      "[1, 2, 4, 3]\n",
      "1\n",
      "2\n",
      "4\n",
      "3\n"
     ]
    },
    {
     "data": {
      "text/plain": [
       "'The value does not exist in this list'"
      ]
     },
     "execution_count": 10,
     "metadata": {},
     "output_type": "execute_result"
    }
   ],
   "source": [
    "class Node:\n",
    "    def __init__(self, value=None):\n",
    "        self.value = value\n",
    "        self.next = None\n",
    "\n",
    "class SLinkedList:\n",
    "    def __init__(self):\n",
    "        self.head=None\n",
    "        self.tail=None\n",
    "        \n",
    "    def __iter__(self):\n",
    "        node = self.head\n",
    "        while node:\n",
    "            yield node \n",
    "            node = node.next\n",
    "            \n",
    "    #insert in a linkedlist\n",
    "    def insertSLL(self,value,location):\n",
    "        \n",
    "        newNode = Node(value)\n",
    "        \n",
    "        # if there's no list\n",
    "        if self.head is None:\n",
    "            self.head = newNode\n",
    "            self.tail = newNode\n",
    "        # if there's a list\n",
    "        else:\n",
    "            # insert at the beginning\n",
    "            if location==0:\n",
    "                newNode.next = self.head\n",
    "                self.head = newNode\n",
    "            #insert at the end\n",
    "            elif location==1:\n",
    "                newNode.next = None\n",
    "                self.tail.next = newNode\n",
    "                self.tail = newNode\n",
    "            # insert at any location\n",
    "            else:\n",
    "                tempNode =self.head\n",
    "                index=0\n",
    "                while index < location-1:\n",
    "                    tempNode= tempNode.next\n",
    "                    index+=1\n",
    "                nextNode = tempNode.next\n",
    "                tempNode.next = newNode\n",
    "                newNode.next = nextNode\n",
    "    \n",
    "    # list traversal\n",
    "    def traversalSLL(self):\n",
    "        if self.head is None:\n",
    "            print(\"The single linked list does not exist\")\n",
    "        else:\n",
    "            node= self.head\n",
    "            while node is not None:\n",
    "                print(node.value)\n",
    "                node= node.next\n",
    "                \n",
    "    # search in Linked List\n",
    "    def search(self,nodevalue):\n",
    "        if self.head is None:\n",
    "            return \"The list doesn't exist\"\n",
    "        else:\n",
    "            node=self.head\n",
    "            while node is not None:\n",
    "                if node.value == nodevalue:\n",
    "                    return node.value\n",
    "                node =node.next\n",
    "            return \"The value does not exist in this list\"\n",
    "    \n",
    "    def deletenode(self, location):\n",
    "        if self.head is None:\n",
    "            print(\"The Sll does not has any element.\")\n",
    "        else:\n",
    "            if location ==0:\n",
    "                if self.head==self.tail:\n",
    "                    \n",
    "        \n",
    "                  \n",
    "                \n",
    "            \n",
    "                          \n",
    "\n",
    "sll= SLinkedList()\n",
    "\n",
    "sll.insertSLL(1,1)\n",
    "sll.insertSLL(2,1)\n",
    "sll.insertSLL(3,1)\n",
    "sll.insertSLL(4,2)\n",
    "\n",
    "print([node.value for node in sll])\n",
    "sll.traversalSLL()\n",
    "sll.search(5)\n",
    "    "
   ]
  },
  {
   "cell_type": "code",
   "execution_count": null,
   "metadata": {},
   "outputs": [],
   "source": []
  },
  {
   "cell_type": "code",
   "execution_count": null,
   "metadata": {},
   "outputs": [],
   "source": []
  }
 ],
 "metadata": {
  "kernelspec": {
   "display_name": "Python 3",
   "language": "python",
   "name": "python3"
  },
  "language_info": {
   "codemirror_mode": {
    "name": "ipython",
    "version": 3
   },
   "file_extension": ".py",
   "mimetype": "text/x-python",
   "name": "python",
   "nbconvert_exporter": "python",
   "pygments_lexer": "ipython3",
   "version": "3.12.3"
  }
 },
 "nbformat": 4,
 "nbformat_minor": 2
}
