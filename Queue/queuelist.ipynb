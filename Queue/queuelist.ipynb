{
 "cells": [
  {
   "cell_type": "code",
   "execution_count": 4,
   "metadata": {},
   "outputs": [
    {
     "name": "stdout",
     "output_type": "stream",
     "text": [
      "True\n",
      "1\n",
      "False\n"
     ]
    }
   ],
   "source": [
    "class Queue:\n",
    "    def __init__(self) -> None:\n",
    "        self.items=[]\n",
    "        \n",
    "    def __str__(self):\n",
    "        val = [str(x) for x in self.items]\n",
    "        return ''.join(val)\n",
    "    \n",
    "    def isEmpty(self):\n",
    "        if self.items==[]:\n",
    "            return True\n",
    "        else:\n",
    "            return False\n",
    "        \n",
    "    def enqueue(self,value):\n",
    "        self.items.append(value)\n",
    "        return \"The element is inserted at the end of the Queue\"\n",
    "\n",
    "    def dequeue(self):\n",
    "        self.items.pop(0)\n",
    "        return \"The element is deleted from the front of the Queue\"\n",
    "    \n",
    "    def peek(self):\n",
    "        if self.isEmpty():\n",
    "            return \"The list is empty\"\n",
    "        \n",
    "        else:\n",
    "            return self.items[0]\n",
    "        \n",
    "    def delete(self):\n",
    "        self.items=None\n",
    "         \n",
    "    \n",
    "    \n",
    "cusormQueue = Queue()\n",
    "print(cusormQueue.isEmpty())\n",
    "cusormQueue.enqueue(1)\n",
    "print(cusormQueue) \n",
    "print(cusormQueue.isEmpty())"
   ]
  },
  {
   "cell_type": "code",
   "execution_count": null,
   "metadata": {},
   "outputs": [],
   "source": []
  }
 ],
 "metadata": {
  "kernelspec": {
   "display_name": "Python 3",
   "language": "python",
   "name": "python3"
  },
  "language_info": {
   "codemirror_mode": {
    "name": "ipython",
    "version": 3
   },
   "file_extension": ".py",
   "mimetype": "text/x-python",
   "name": "python",
   "nbconvert_exporter": "python",
   "pygments_lexer": "ipython3",
   "version": "3.12.4"
  }
 },
 "nbformat": 4,
 "nbformat_minor": 2
}
