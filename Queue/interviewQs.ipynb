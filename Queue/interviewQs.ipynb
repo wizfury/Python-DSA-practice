{
 "cells": [
  {
   "cell_type": "code",
   "execution_count": null,
   "metadata": {},
   "outputs": [],
   "source": [
    "class Node:\n",
    "    def __inti__(self,val=None,next=None):\n",
    "        self.value=val\n",
    "        self.next=None\n",
    "        \n",
    "    def __str__(self):\n",
    "        string = str(self.value)\n",
    "        if self.next:\n",
    "            string += \" -> \" + str(self.next)\n",
    "        return string\n",
    "\n",
    "class Stack:\n",
    "    def __init__(self):\n",
    "        self.top = None\n",
    "        self.minNode = None\n",
    "        \n",
    "    def min(self):\n",
    "        if not self.minNode:\n",
    "            return None\n",
    "        return self.minNode.value\n",
    "    \n",
    "    def push(self,item):\n",
    "        \n",
    "        #if the item is not less than minNode and minNode is not None\n",
    "        if self.minNode and (self.minNode.value<item):\n",
    "            #Don't change the minNode and insert the node\n",
    "            self.minNode= Node(value=self.minNode.value, next=self.minNode)\n",
    "        else:\n",
    "            self.minNode = Node(value=item, next=self.top)\n",
    "        self.top=Node(value=item,next=self.top)\n",
    "    \n",
    "    def pop(self):\n",
    "        if not self.top:\n",
    "            return None\n",
    "        \n",
    "        self.minNode=self.minNode.next\n",
    "        item = self.top.value\n",
    "        self.top=self.top.next\n",
    "        return item\n",
    "            \n",
    "        \n",
    "        \n",
    "            \n",
    "        \n",
    "        \n",
    "    \n",
    "    \n",
    "        \n",
    "    "
   ]
  },
  {
   "cell_type": "code",
   "execution_count": null,
   "metadata": {},
   "outputs": [],
   "source": []
  }
 ],
 "metadata": {
  "kernelspec": {
   "display_name": "Python 3",
   "language": "python",
   "name": "python3"
  },
  "language_info": {
   "name": "python",
   "version": "3.12.4"
  }
 },
 "nbformat": 4,
 "nbformat_minor": 2
}
