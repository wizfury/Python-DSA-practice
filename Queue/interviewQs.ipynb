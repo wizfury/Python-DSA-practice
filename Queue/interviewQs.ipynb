{
 "cells": [
  {
   "cell_type": "code",
   "execution_count": null,
   "metadata": {},
   "outputs": [],
   "source": [
    "class multistack:\n",
    "    def __init__(self,stacksize):\n",
    "        self.numberstacks=3\n",
    "        self.stacksize=stacksize\n",
    "        self.custlist = [0]*(self.numberstacks*stacksize)\n",
    "        self.sizes=[0]* self.numberstacks\n",
    "        \n",
    "    def ifull(self,stacknumber):\n",
    "        if self.sizes[stacknumber]== self.stacksize:\n",
    "            return True\n",
    "        else:\n",
    "            return False\n",
    "        \n",
    "    def isEmpty(self,stacknum):\n",
    "        if self.sizes[stacknum]==0:\n",
    "            return True\n",
    "        else:\n",
    "            return False\n",
    "    \n",
    "\n",
    "    \n",
    "    \n",
    "        "
   ]
  }
 ],
 "metadata": {
  "language_info": {
   "name": "python"
  }
 },
 "nbformat": 4,
 "nbformat_minor": 2
}
