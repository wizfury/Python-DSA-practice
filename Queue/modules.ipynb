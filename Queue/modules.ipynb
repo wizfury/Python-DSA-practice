{
 "cells": [
  {
   "cell_type": "code",
   "execution_count": 6,
   "metadata": {},
   "outputs": [
    {
     "name": "stdout",
     "output_type": "stream",
     "text": [
      "deque([2, 3, 4], maxlen=3)\n",
      "deque([3, 4], maxlen=3)\n",
      "deque([], maxlen=3)\n"
     ]
    }
   ],
   "source": [
    "from collections import deque\n",
    "\n",
    "customqueue = deque(maxlen=3)\n",
    "customqueue.append(1)\n",
    "customqueue.append(2)\n",
    "customqueue.append(3)\n",
    "customqueue.append(4)\n",
    "print(customqueue)\n",
    "customqueue.popleft()\n",
    "print(customqueue)\n",
    "customqueue.clear()\n",
    "print(customqueue)"
   ]
  },
  {
   "cell_type": "code",
   "execution_count": 5,
   "metadata": {},
   "outputs": [
    {
     "data": {
      "text/plain": [
       "2"
      ]
     },
     "execution_count": 5,
     "metadata": {},
     "output_type": "execute_result"
    }
   ],
   "source": [
    "import queue as q\n",
    "\n",
    "customqueue = q.Queue(maxsize=3)\n",
    "customqueue.put(1)\n",
    "customqueue.put(2)\n",
    "customqueue.put(3)\n",
    "customqueue.qsize()\n",
    "customqueue.get()\n",
    "\n",
    "\n"
   ]
  },
  {
   "cell_type": "code",
   "execution_count": 7,
   "metadata": {},
   "outputs": [
    {
     "data": {
      "text/plain": [
       "3"
      ]
     },
     "execution_count": 7,
     "metadata": {},
     "output_type": "execute_result"
    }
   ],
   "source": [
    "from multiprocessing import Queue\n",
    "customqueue = Queue(maxsize=3)\n",
    "customqueue.put(3)\n",
    "customqueue.put(3)\n",
    "customqueue.put(2)\n",
    "customqueue.get()"
   ]
  },
  {
   "cell_type": "code",
   "execution_count": null,
   "metadata": {},
   "outputs": [],
   "source": []
  }
 ],
 "metadata": {
  "kernelspec": {
   "display_name": "Python 3",
   "language": "python",
   "name": "python3"
  },
  "language_info": {
   "codemirror_mode": {
    "name": "ipython",
    "version": 3
   },
   "file_extension": ".py",
   "mimetype": "text/x-python",
   "name": "python",
   "nbconvert_exporter": "python",
   "pygments_lexer": "ipython3",
   "version": "3.12.4"
  }
 },
 "nbformat": 4,
 "nbformat_minor": 2
}
