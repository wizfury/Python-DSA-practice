{
 "cells": [
  {
   "cell_type": "code",
   "execution_count": null,
   "metadata": {},
   "outputs": [],
   "source": [
    "a=[6,4,5,3,2,5,6,1]\n",
    "\n",
    "for i in range(len(a)):\n",
    "    min_index=1\n",
    "    for j in range(i+1,len(a)):\n",
    "        if a[min_index]>a[j]:\n",
    "            min_index=j\n",
    "    \n",
    "    "
   ]
  }
 ],
 "metadata": {
  "language_info": {
   "name": "python"
  }
 },
 "nbformat": 4,
 "nbformat_minor": 2
}
