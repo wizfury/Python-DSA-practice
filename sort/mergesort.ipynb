{
 "cells": [
  {
   "cell_type": "code",
   "execution_count": 1,
   "metadata": {},
   "outputs": [],
   "source": [
    "a=[6,5,6,3,2,6,7,44]\n",
    "\n",
    "def merge(customList, l,m,r):\n",
    "    n1=m-l+1\n",
    "    n2=r-m\n",
    "    \n",
    "    L=[0]*n1\n",
    "    \n",
    "    R=[0]*n2\n",
    "    \n",
    "    for i in range(0,n1):\n",
    "        L[i]=customList[l+i]\n",
    "        \n",
    "    for i in range(0,n2):\n",
    "        R[i]=customList[m+i+1]\n",
    "\n",
    "merge(a,0,4,7)"
   ]
  },
  {
   "cell_type": "code",
   "execution_count": null,
   "metadata": {},
   "outputs": [],
   "source": []
  }
 ],
 "metadata": {
  "kernelspec": {
   "display_name": "Python 3",
   "language": "python",
   "name": "python3"
  },
  "language_info": {
   "codemirror_mode": {
    "name": "ipython",
    "version": 3
   },
   "file_extension": ".py",
   "mimetype": "text/x-python",
   "name": "python",
   "nbconvert_exporter": "python",
   "pygments_lexer": "ipython3",
   "version": "3.12.4"
  }
 },
 "nbformat": 4,
 "nbformat_minor": 2
}
