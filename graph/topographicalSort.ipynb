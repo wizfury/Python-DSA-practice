{
 "cells": [
  {
   "cell_type": "code",
   "execution_count": null,
   "metadata": {},
   "outputs": [],
   "source": [
    "from collections import defaultdict\n",
    "class Grapg:\n",
    "    def __init__(self,numberofvertices):\n",
    "        self.graph = defaultdict(list)\n",
    "        self.numberofVertices = numberofvertices\n",
    "        \n",
    "    def addEdge(self,vertex, edge):\n",
    "        self.graph[vertex].append(edge)\n",
    "        \n",
    "    def topologicalsortutil(self,v,visited,stack):\n",
    "        visited.append(v)\n",
    "        \n",
    "        for i in self.graph[v]:\n",
    "            if i not in visited:\n",
    "                self.topologicalsort(i,visited,stack)\n",
    "                \n",
    "        stack.insert(0,v)\n",
    "    \n",
    "    def topologicalsort(self):\n",
    "        \n",
    "        visited = []\n",
    "        stack = []\n",
    "        \n",
    "        for k in list(self.graph)\n",
    "        \n",
    "    \n",
    "    "
   ]
  }
 ],
 "metadata": {
  "language_info": {
   "name": "python"
  }
 },
 "nbformat": 4,
 "nbformat_minor": 2
}
