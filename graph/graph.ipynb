{
 "cells": [
  {
   "cell_type": "code",
   "execution_count": 1,
   "metadata": {},
   "outputs": [],
   "source": [
    "#dictionaly inplementation\n",
    "\n",
    "# {\n",
    "#     A: [B,C],\n",
    "#     B: [A,D,E],\n",
    "#     C: [A,F],\n",
    "#     D: [B,E,F],\n",
    "#     E: [D,F],\n",
    "# }"
   ]
  },
  {
   "cell_type": "code",
   "execution_count": 5,
   "metadata": {},
   "outputs": [
    {
     "name": "stdout",
     "output_type": "stream",
     "text": [
      "{'a': ['b', 'c'], 'b': ['a', 'd', 'e'], 'c': ['a', 'e'], 'd': ['b', 'e', 'f'], 'e': ['d', 'f', 'c'], 'f': ['d', 'e']}\n",
      "a\n",
      "c\n",
      "e\n",
      "f\n",
      "d\n",
      "b\n"
     ]
    }
   ],
   "source": [
    "class Graph:\n",
    "    def __init__(self, gdict=None):\n",
    "        if gdict is None:\n",
    "            gdict = {}\n",
    "        self.gdict = gdict\n",
    "        \n",
    "    def addEdges(self,vertex,edge):\n",
    "        self.gdict[vertex].append(edge)\n",
    "        \n",
    "    def bfs(self,vertex):\n",
    "        visited = [vertex]\n",
    "        queue = [vertex]\n",
    "        \n",
    "        while queue:\n",
    "            deVertex = queue.pop(0)\n",
    "            print(deVertex)\n",
    "            for adj in self.gdict[deVertex]:\n",
    "                if adj not in visited:\n",
    "                    visited.append(adj)\n",
    "                    queue.append(adj)\n",
    "                    \n",
    "    def dfs(self,vertex):\n",
    "        visited = [vertex]\n",
    "        stack = [vertex]\n",
    "        \n",
    "        while stack:\n",
    "            deVertex = stack.pop()\n",
    "            print(deVertex)\n",
    "            for adj in self.gdict[deVertex]:\n",
    "                if adj not in visited:\n",
    "                    visited.append(adj)\n",
    "                    stack.append(adj)\n",
    "            \n",
    "            \n",
    "        \n",
    "customdict = {\n",
    "    \"a\": [\"b\",\"c\"],\n",
    "    \"b\": [\"a\",\"d\",\"e\"],\n",
    "    \"c\": [\"a\",\"e\"],\n",
    "    \"d\": [\"b\",\"e\",\"f\"],\n",
    "    \"e\": [\"d\",\"f\",\"c\"],\n",
    "    \"f\": [\"d\",\"e\"]    \n",
    "}\n",
    "\n",
    "graph = Graph(customdict)\n",
    "print(graph.gdict)\n",
    "# graph.bfs(\"a\")\n",
    "graph.dfs(\"a\")\n"
   ]
  },
  {
   "cell_type": "code",
   "execution_count": null,
   "metadata": {},
   "outputs": [],
   "source": []
  },
  {
   "cell_type": "code",
   "execution_count": null,
   "metadata": {},
   "outputs": [],
   "source": []
  }
 ],
 "metadata": {
  "kernelspec": {
   "display_name": "Python 3",
   "language": "python",
   "name": "python3"
  },
  "language_info": {
   "codemirror_mode": {
    "name": "ipython",
    "version": 3
   },
   "file_extension": ".py",
   "mimetype": "text/x-python",
   "name": "python",
   "nbconvert_exporter": "python",
   "pygments_lexer": "ipython3",
   "version": "3.11.5"
  }
 },
 "nbformat": 4,
 "nbformat_minor": 2
}
