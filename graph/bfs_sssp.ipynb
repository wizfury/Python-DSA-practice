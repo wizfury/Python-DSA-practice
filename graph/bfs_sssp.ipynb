{
 "cells": [
  {
   "cell_type": "code",
   "execution_count": 3,
   "metadata": {},
   "outputs": [
    {
     "name": "stdout",
     "output_type": "stream",
     "text": [
      "a\n",
      "b\n",
      "c\n",
      "a\n",
      "d\n",
      "e\n",
      "a\n",
      "e\n",
      "b\n",
      "c\n",
      "b\n",
      "e\n",
      "f\n"
     ]
    },
    {
     "data": {
      "text/plain": [
       "['a', 'b', 'd', 'f']"
      ]
     },
     "execution_count": 3,
     "metadata": {},
     "output_type": "execute_result"
    }
   ],
   "source": [
    "class Graph:\n",
    "    def __init__(self,gdict):\n",
    "        if gdict is None:\n",
    "            gdict = {}\n",
    "        self.gdict = gdict\n",
    "    \n",
    "    def bfs(self,start,end):\n",
    "        queue = []\n",
    "        queue.append([start])\n",
    "        while queue:\n",
    "            path = queue.pop(0)\n",
    "            node = path[-1]\n",
    "            if node==end:\n",
    "                return path\n",
    "            for adj in self.gdict.get(node,[]):\n",
    "                new_path = list(path)\n",
    "                new_path.append(adj)\n",
    "                queue.append(new_path)\n",
    "                \n",
    "customdict = {\n",
    "    \"a\": [\"b\",\"c\"],\n",
    "    \"b\": [\"a\",\"d\",\"e\"],\n",
    "    \"c\": [\"a\",\"e\"],\n",
    "    \"d\": [\"b\",\"e\",\"f\"],\n",
    "    \"e\": [\"d\",\"f\",\"c\"],\n",
    "    \"f\": [\"d\",\"e\"]    \n",
    "}\n",
    "\n",
    "graph = Graph(customdict)\n",
    "graph.bfs(\"a\",\"f\")\n"
   ]
  },
  {
   "cell_type": "code",
   "execution_count": null,
   "metadata": {},
   "outputs": [],
   "source": []
  },
  {
   "cell_type": "code",
   "execution_count": null,
   "metadata": {},
   "outputs": [],
   "source": [
    "class Graph:\n",
    "    def __init__(self,gdict):\n",
    "        if gdict is None:\n",
    "            gdict = {}\n",
    "        self.gdict = gdict\n",
    "\n",
    "    def bfs(self,start,end):\n",
    "        queue = []\n",
    "        queue.append([start])\n",
    "        while queue:\n",
    "            path = queue.pop(0)\n",
    "            node = path[-1]\n",
    "            \n",
    "            if node == end:\n",
    "                return path\n",
    "            "
   ]
  }
 ],
 "metadata": {
  "kernelspec": {
   "display_name": "Python 3",
   "language": "python",
   "name": "python3"
  },
  "language_info": {
   "codemirror_mode": {
    "name": "ipython",
    "version": 3
   },
   "file_extension": ".py",
   "mimetype": "text/x-python",
   "name": "python",
   "nbconvert_exporter": "python",
   "pygments_lexer": "ipython3",
   "version": "3.11.5"
  }
 },
 "nbformat": 4,
 "nbformat_minor": 2
}
